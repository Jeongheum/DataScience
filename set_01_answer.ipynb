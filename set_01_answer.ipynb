{
 "cells": [
  {
   "cell_type": "markdown",
   "id": "273ce22e",
   "metadata": {},
   "source": [
    "실전1  \n",
    "\n",
    "시중 TV제품별 분석  \n",
    "시중 판매중인 TV정보를 온라인 쇼핑몰 웹페이지에서 크롤링하여 분석을 하고자 한다. 해당 데이터를 기반으로 각 TV의 제원에 따른 평가는 어떠한지 알아보고 향후 신제품 출시에 참고하고자 한다.  \n",
    "\n",
    "데이터: TV.csv  666 rows, 11 columns, UTF-8  "
   ]
  },
  {
   "cell_type": "markdown",
   "id": "7f950e4e",
   "metadata": {},
   "source": [
    "변수 상세  \n",
    "변수명  유형  설명  \n",
    "Product_name    string     상품명  \n",
    "Stars   float  평가 평균점수  \n",
    "Ratings   int    평가수  \n",
    "Reviews  int  후기 수  \n",
    "current_price  int  현재 가격  \n",
    "MRP  int  공장출고가  \n",
    "channel  string  프리미엄 채널 서비스 제공목록  \n",
    "Operating_system  string  운영체제  \n",
    "Picture_quality  string  해상도  \n",
    "Speaker  string  스피커  \n",
    "Frequency  string  주사율"
   ]
  },
  {
   "cell_type": "markdown",
   "id": "e5ee61e0",
   "metadata": {},
   "source": [
    "필요 라이브러리 함수 및 클래스 목록  \n",
    "from sklearn.ensemble import RandomForestRegressor  "
   ]
  },
  {
   "cell_type": "markdown",
   "id": "cc4ac2d6",
   "metadata": {},
   "source": [
    "문제1. 주사율은 TV제원 중 가격에 큰 영향을 미치는 제원이다. 그러데 데이터 수집 중 실수가 발생하여 주사율 값 중 일부가 해상도, 스피커 변수에 잘못 입력된 것이 발견되었다. 세 변수에 흩어져 있는 주사율 데이터를 취합하여 전체 TV중에서 주사율이 60Hz인 TV는 총 몇 대인가?  \n",
    ". 주사율은 2~3자리 숫자뒤에 반드시 Hz라는 단위로 표기되어 있다.  \n",
    ". 세 변수 모두 주사율 정보가 없을 경우 결측치로 간주하고 이를 분석에서 제외하시오.  "
   ]
  },
  {
   "cell_type": "markdown",
   "id": "f7f59ce4",
   "metadata": {},
   "source": [
    "문제2. TV의 해상도는 HD, 4K, 8K로 나뉜다. 최근 시장에 등장한 8K제품군은 상대적으로 비싸 비교적 매출이 떨어지는 편이다. 하지만 8K제품군 구매자가 4K제품군 구매자 대비 얼마나 만족하고 있는지 확인해보고자 한다. 8K제품군의 평가평균점수(Stars)의 평균값과 4K제품군의 평가평균점수와의 평균값 차이의 절대값을 산출하시오.  \n",
    ". 화면 해상도는 관련 변수에서 \"HD\", \"4K\", \"8K\"로 찾아낼 수 있다.  \n",
    ". 화면해상도 정보는 'Operating_system', 'channel', 'Picture_quality'변수에 흩어져 있다.  \n",
    ". 결과는 반올림하여 소수점 2째자리까지 출력하시오"
   ]
  },
  {
   "cell_type": "markdown",
   "id": "dd43697c",
   "metadata": {},
   "source": [
    "문제3. 좋은 평가를 받는 제품의 조건을 알아보고자 한다. 이를 위해 기존 변수와 더불어 여러 파생변수를 생성 후 해당 변수를 독립변수로 하고 평가 평균점수(Stars)를 종속변수로 하여 Random Forest 분석을 통해 좋은 평가를 받는 제품의 조건을 알아보고자 한다. 아래 절차를 수행하여 변수 중요도를 확인하고, 그 값 중 가장 큰 값을 가진 변수명을 기술하시오.  \n",
    ". < 독립변수 >  \n",
    "- 후기 작성비율: 후기수(Reviews)/평가수(Ratings)  \n",
    "- 공장 출고가 (MRP)  \n",
    "- 할인율: 현재 판매가 (current_price)/공장출고가 (MRP)  \n",
    "- Neflix 제공여부: 제공(1), 미제공(0)  \n",
    "- Prime Video제공여부 제공(1), 미제공(0)  \n",
    "- 고해상도여부 4K 또는 8K (1), 나머지 (0)  \n",
    ". < 종속변수>  \n",
    "- 평가 평균점수 (Stars)  \n",
    "\n",
    ". channel 변수에 해상도('Pixel'문자 참조) 또는 운영제체 정보('Oper'문자 참조)가 있는 TV는 분석에서 제외하시오.  \n",
    ". Netflix, Prime Video 제공여부변수는 channel 변수를 참고하시오.  \n",
    ". 독립변수를 생성하면서 결측치가 생성되는 경우 해당 행을 모두 제거하시오.  \n",
    ". 학습 대상이 되는 행 개수는 197이다.  \n",
    ". 고해상도 여부 변수 생성은 해상도변수만 참고하여 생성하시오  \n",
    ". seed는 123 으로 지정하시오  \n",
    "(정답예시: 고해상도여부 - 띄어쓰지 않고 문제에서 제시된 독립변수 명을 기입)"
   ]
  },
  {
   "cell_type": "code",
   "execution_count": 1,
   "id": "28ee9946",
   "metadata": {},
   "outputs": [],
   "source": [
    "import pandas as pd\n",
    "import numpy as np\n",
    "\n",
    "from sklearn.ensemble import RandomForestRegressor"
   ]
  },
  {
   "cell_type": "code",
   "execution_count": 2,
   "id": "03fbb0ee",
   "metadata": {
    "collapsed": true
   },
   "outputs": [
    {
     "data": {
      "text/html": [
       "<div>\n",
       "<style scoped>\n",
       "    .dataframe tbody tr th:only-of-type {\n",
       "        vertical-align: middle;\n",
       "    }\n",
       "\n",
       "    .dataframe tbody tr th {\n",
       "        vertical-align: top;\n",
       "    }\n",
       "\n",
       "    .dataframe thead th {\n",
       "        text-align: right;\n",
       "    }\n",
       "</style>\n",
       "<table border=\"1\" class=\"dataframe\">\n",
       "  <thead>\n",
       "    <tr style=\"text-align: right;\">\n",
       "      <th></th>\n",
       "      <th>Product_Name</th>\n",
       "      <th>Stars</th>\n",
       "      <th>Ratings</th>\n",
       "      <th>Reviews</th>\n",
       "      <th>current_price</th>\n",
       "      <th>MRP</th>\n",
       "      <th>channel</th>\n",
       "      <th>Operating_system</th>\n",
       "      <th>Picture_quality</th>\n",
       "      <th>Speaker</th>\n",
       "      <th>Frequency</th>\n",
       "    </tr>\n",
       "  </thead>\n",
       "  <tbody>\n",
       "    <tr>\n",
       "      <th>0</th>\n",
       "      <td>Croma</td>\n",
       "      <td>4.2</td>\n",
       "      <td>1773</td>\n",
       "      <td>217</td>\n",
       "      <td>7990</td>\n",
       "      <td>20000</td>\n",
       "      <td>HD Ready 1366 x 768 Pixels</td>\n",
       "      <td>20 Speaker Output</td>\n",
       "      <td>60 Hz Refresh Rate</td>\n",
       "      <td>2 x HDMI | 2 x USB</td>\n",
       "      <td>1 Year Warranty</td>\n",
       "    </tr>\n",
       "    <tr>\n",
       "      <th>1</th>\n",
       "      <td>Adsun</td>\n",
       "      <td>3.8</td>\n",
       "      <td>6742</td>\n",
       "      <td>930</td>\n",
       "      <td>8699</td>\n",
       "      <td>21999</td>\n",
       "      <td>Netflix|Disney+Hotstar|Youtube</td>\n",
       "      <td>Operating System: Android Based</td>\n",
       "      <td>HD Ready 1366 x 768 Pixels</td>\n",
       "      <td>20 W Speaker Output</td>\n",
       "      <td>60 Hz Refresh Rate</td>\n",
       "    </tr>\n",
       "  </tbody>\n",
       "</table>\n",
       "</div>"
      ],
      "text/plain": [
       "  Product_Name  Stars  Ratings  Reviews  current_price    MRP  \\\n",
       "0        Croma    4.2     1773      217           7990  20000   \n",
       "1        Adsun    3.8     6742      930           8699  21999   \n",
       "\n",
       "                          channel                 Operating_system  \\\n",
       "0      HD Ready 1366 x 768 Pixels                20 Speaker Output   \n",
       "1  Netflix|Disney+Hotstar|Youtube  Operating System: Android Based   \n",
       "\n",
       "              Picture_quality              Speaker           Frequency  \n",
       "0          60 Hz Refresh Rate   2 x HDMI | 2 x USB     1 Year Warranty  \n",
       "1  HD Ready 1366 x 768 Pixels  20 W Speaker Output  60 Hz Refresh Rate  "
      ]
     },
     "execution_count": 2,
     "metadata": {},
     "output_type": "execute_result"
    }
   ],
   "source": [
    "df = pd.read_csv(\"TV.csv\")\n",
    "df.head(2)"
   ]
  },
  {
   "cell_type": "markdown",
   "id": "abfd0bfb",
   "metadata": {},
   "source": [
    "### Q1."
   ]
  },
  {
   "cell_type": "code",
   "execution_count": 3,
   "id": "4f702157",
   "metadata": {},
   "outputs": [
    {
     "data": {
      "text/html": [
       "<div>\n",
       "<style scoped>\n",
       "    .dataframe tbody tr th:only-of-type {\n",
       "        vertical-align: middle;\n",
       "    }\n",
       "\n",
       "    .dataframe tbody tr th {\n",
       "        vertical-align: top;\n",
       "    }\n",
       "\n",
       "    .dataframe thead th {\n",
       "        text-align: right;\n",
       "    }\n",
       "</style>\n",
       "<table border=\"1\" class=\"dataframe\">\n",
       "  <thead>\n",
       "    <tr style=\"text-align: right;\">\n",
       "      <th></th>\n",
       "      <th>Picture_quality</th>\n",
       "      <th>Speaker</th>\n",
       "      <th>Frequency</th>\n",
       "    </tr>\n",
       "  </thead>\n",
       "  <tbody>\n",
       "    <tr>\n",
       "      <th>0</th>\n",
       "      <td>60 Hz Refresh Rate</td>\n",
       "      <td>2 x HDMI | 2 x USB</td>\n",
       "      <td>1 Year Warranty</td>\n",
       "    </tr>\n",
       "    <tr>\n",
       "      <th>1</th>\n",
       "      <td>HD Ready 1366 x 768 Pixels</td>\n",
       "      <td>20 W Speaker Output</td>\n",
       "      <td>60 Hz Refresh Rate</td>\n",
       "    </tr>\n",
       "  </tbody>\n",
       "</table>\n",
       "</div>"
      ],
      "text/plain": [
       "              Picture_quality              Speaker           Frequency\n",
       "0          60 Hz Refresh Rate   2 x HDMI | 2 x USB     1 Year Warranty\n",
       "1  HD Ready 1366 x 768 Pixels  20 W Speaker Output  60 Hz Refresh Rate"
      ]
     },
     "execution_count": 3,
     "metadata": {},
     "output_type": "execute_result"
    }
   ],
   "source": [
    "df_q1 = df.loc[:, \"Picture_quality\":].copy()\n",
    "df_q1.head(2)"
   ]
  },
  {
   "cell_type": "code",
   "execution_count": 5,
   "id": "0d793b76",
   "metadata": {},
   "outputs": [
    {
     "data": {
      "text/plain": [
       "509"
      ]
     },
     "execution_count": 5,
     "metadata": {},
     "output_type": "execute_result"
    }
   ],
   "source": [
    "stat_1 = sum(df_q1[\"Picture_quality\"] == \"60 Hz Refresh Rate\")\n",
    "stat_2 = sum(df_q1[\"Speaker\"] == \"60 Hz Refresh Rate\")\n",
    "stat_3 = sum(df_q1[\"Frequency\"] == \"60 Hz Refresh Rate\")\n",
    "stat_1 + stat_2 + stat_3"
   ]
  },
  {
   "cell_type": "code",
   "execution_count": 13,
   "id": "6feb6a71",
   "metadata": {
    "collapsed": true
   },
   "outputs": [
    {
     "data": {
      "text/plain": [
       "0                                    60 Hz Refresh Rate\n",
       "15                                  120 Hz Refresh Rate\n",
       "16                                  100 Hz Refresh Rate\n",
       "18                                  200 Hz Refresh Rate\n",
       "20                                   58 Hz Refresh Rate\n",
       "22                                   50 Hz Refresh Rate\n",
       "48    60 Hz Refresh Rate for a blur-free picture qua...\n",
       "61                                  300 Hz Refresh Rate\n",
       "dtype: object"
      ]
     },
     "execution_count": 13,
     "metadata": {},
     "output_type": "execute_result"
    }
   ],
   "source": [
    "# df_q1[\"Picture_quality\"].unique()\n",
    "ser_u = pd.Series(df_q1[\"Picture_quality\"].unique())\n",
    "# ser_u = pd.Series(df_q1[\"Speaker\"].unique())\n",
    "# ser_u = pd.Series(df_q1[\"Frequency\"].unique())\n",
    "# ser_u[ser_u.str.contains(\"Hz\")]\n",
    "ser_u[ser_u.str.contains(\"[0-9]{2,3} Hz\")]"
   ]
  },
  {
   "cell_type": "code",
   "execution_count": 14,
   "id": "b13b2d91",
   "metadata": {
    "collapsed": true
   },
   "outputs": [
    {
     "data": {
      "text/html": [
       "<div>\n",
       "<style scoped>\n",
       "    .dataframe tbody tr th:only-of-type {\n",
       "        vertical-align: middle;\n",
       "    }\n",
       "\n",
       "    .dataframe tbody tr th {\n",
       "        vertical-align: top;\n",
       "    }\n",
       "\n",
       "    .dataframe thead th {\n",
       "        text-align: right;\n",
       "    }\n",
       "</style>\n",
       "<table border=\"1\" class=\"dataframe\">\n",
       "  <thead>\n",
       "    <tr style=\"text-align: right;\">\n",
       "      <th></th>\n",
       "      <th>Picture_quality</th>\n",
       "      <th>Speaker</th>\n",
       "      <th>Frequency</th>\n",
       "      <th>hz_cnt1</th>\n",
       "      <th>hz_cnt2</th>\n",
       "      <th>hz_cnt3</th>\n",
       "      <th>hz_cnt</th>\n",
       "    </tr>\n",
       "  </thead>\n",
       "  <tbody>\n",
       "    <tr>\n",
       "      <th>0</th>\n",
       "      <td>60 Hz Refresh Rate</td>\n",
       "      <td>2 x HDMI | 2 x USB</td>\n",
       "      <td>1 Year Warranty</td>\n",
       "      <td>1</td>\n",
       "      <td>0</td>\n",
       "      <td>0</td>\n",
       "      <td>1</td>\n",
       "    </tr>\n",
       "    <tr>\n",
       "      <th>1</th>\n",
       "      <td>HD Ready 1366 x 768 Pixels</td>\n",
       "      <td>20 W Speaker Output</td>\n",
       "      <td>60 Hz Refresh Rate</td>\n",
       "      <td>0</td>\n",
       "      <td>0</td>\n",
       "      <td>1</td>\n",
       "      <td>1</td>\n",
       "    </tr>\n",
       "  </tbody>\n",
       "</table>\n",
       "</div>"
      ],
      "text/plain": [
       "              Picture_quality              Speaker           Frequency  \\\n",
       "0          60 Hz Refresh Rate   2 x HDMI | 2 x USB     1 Year Warranty   \n",
       "1  HD Ready 1366 x 768 Pixels  20 W Speaker Output  60 Hz Refresh Rate   \n",
       "\n",
       "   hz_cnt1  hz_cnt2  hz_cnt3  hz_cnt  \n",
       "0        1        0        0       1  \n",
       "1        0        0        1       1  "
      ]
     },
     "execution_count": 14,
     "metadata": {},
     "output_type": "execute_result"
    }
   ],
   "source": [
    "df_q1[\"hz_cnt1\"] = df_q1[\"Picture_quality\"].str.contains(\"Hz\") + 0\n",
    "df_q1[\"hz_cnt2\"] = df_q1[\"Speaker\"        ].str.contains(\"Hz\") + 0\n",
    "df_q1[\"hz_cnt3\"] = df_q1[\"Frequency\"      ].str.contains(\"Hz\") + 0\n",
    "df_q1[\"hz_cnt\" ] = df_q1[\"hz_cnt1\"] + df_q1[\"hz_cnt2\"] + df_q1[\"hz_cnt3\"]\n",
    "df_q1.head(2)"
   ]
  },
  {
   "cell_type": "code",
   "execution_count": 15,
   "id": "666547c9",
   "metadata": {
    "collapsed": true
   },
   "outputs": [
    {
     "data": {
      "text/plain": [
       "hz_cnt\n",
       "1    662\n",
       "0      4\n",
       "Name: count, dtype: int64"
      ]
     },
     "execution_count": 15,
     "metadata": {},
     "output_type": "execute_result"
    }
   ],
   "source": [
    "df_q1[\"hz_cnt\"].value_counts()"
   ]
  },
  {
   "cell_type": "code",
   "execution_count": 17,
   "id": "a3812e19",
   "metadata": {},
   "outputs": [
    {
     "data": {
      "text/plain": [
       "662"
      ]
     },
     "execution_count": 17,
     "metadata": {},
     "output_type": "execute_result"
    }
   ],
   "source": [
    "df_q1_sub = df_q1.loc[df_q1[\"hz_cnt\"] != 0, ]\n",
    "len(df_q1_sub)"
   ]
  },
  {
   "cell_type": "code",
   "execution_count": 22,
   "id": "eea149e8",
   "metadata": {
    "collapsed": true
   },
   "outputs": [
    {
     "data": {
      "text/plain": [
       "1    510\n",
       "0    152\n",
       "Name: count, dtype: int64"
      ]
     },
     "execution_count": 22,
     "metadata": {},
     "output_type": "execute_result"
    }
   ],
   "source": [
    "df_q1_sub.iloc[:, :3].apply(lambda x: x.str.contains(\"60 Hz\").sum(), axis = 1).value_counts()"
   ]
  },
  {
   "cell_type": "code",
   "execution_count": 23,
   "id": "7beb87ea",
   "metadata": {
    "collapsed": true
   },
   "outputs": [
    {
     "data": {
      "text/plain": [
       "1    510\n",
       "0    152\n",
       "Name: count, dtype: int64"
      ]
     },
     "execution_count": 23,
     "metadata": {},
     "output_type": "execute_result"
    }
   ],
   "source": [
    "tx_regex = \"^60 Hz|[^0-9]60 Hz\" # 60 Hz로 시작하거나 60 Hz 앞에 숫자가 아닌 것이 위치하거나.\n",
    "df_q1_sub.iloc[:, :3].apply(lambda x: x.str.contains(tx_regex).sum(), axis = 1).value_counts()"
   ]
  },
  {
   "cell_type": "code",
   "execution_count": 12,
   "id": "ce970ab3",
   "metadata": {},
   "outputs": [
    {
     "data": {
      "text/plain": [
       "510"
      ]
     },
     "execution_count": 12,
     "metadata": {},
     "output_type": "execute_result"
    }
   ],
   "source": [
    "df_q1.apply(lambda x: x.str.contains(\"60 Hz\").sum(), axis = 1).value_counts()[1]"
   ]
  },
  {
   "cell_type": "markdown",
   "id": "5db59ae5",
   "metadata": {},
   "source": [
    "### Q2."
   ]
  },
  {
   "cell_type": "code",
   "execution_count": 36,
   "id": "fb230ef9",
   "metadata": {
    "collapsed": true
   },
   "outputs": [
    {
     "data": {
      "text/html": [
       "<div>\n",
       "<style scoped>\n",
       "    .dataframe tbody tr th:only-of-type {\n",
       "        vertical-align: middle;\n",
       "    }\n",
       "\n",
       "    .dataframe tbody tr th {\n",
       "        vertical-align: top;\n",
       "    }\n",
       "\n",
       "    .dataframe thead th {\n",
       "        text-align: right;\n",
       "    }\n",
       "</style>\n",
       "<table border=\"1\" class=\"dataframe\">\n",
       "  <thead>\n",
       "    <tr style=\"text-align: right;\">\n",
       "      <th></th>\n",
       "      <th>channel</th>\n",
       "      <th>Operating_system</th>\n",
       "      <th>Picture_quality</th>\n",
       "      <th>Stars</th>\n",
       "    </tr>\n",
       "  </thead>\n",
       "  <tbody>\n",
       "    <tr>\n",
       "      <th>0</th>\n",
       "      <td>HD Ready 1366 x 768 Pixels</td>\n",
       "      <td>20 Speaker Output</td>\n",
       "      <td>60 Hz Refresh Rate</td>\n",
       "      <td>4.2</td>\n",
       "    </tr>\n",
       "    <tr>\n",
       "      <th>1</th>\n",
       "      <td>Netflix|Disney+Hotstar|Youtube</td>\n",
       "      <td>Operating System: Android Based</td>\n",
       "      <td>HD Ready 1366 x 768 Pixels</td>\n",
       "      <td>3.8</td>\n",
       "    </tr>\n",
       "  </tbody>\n",
       "</table>\n",
       "</div>"
      ],
      "text/plain": [
       "                          channel                 Operating_system  \\\n",
       "0      HD Ready 1366 x 768 Pixels                20 Speaker Output   \n",
       "1  Netflix|Disney+Hotstar|Youtube  Operating System: Android Based   \n",
       "\n",
       "              Picture_quality  Stars  \n",
       "0          60 Hz Refresh Rate    4.2  \n",
       "1  HD Ready 1366 x 768 Pixels    3.8  "
      ]
     },
     "execution_count": 36,
     "metadata": {},
     "output_type": "execute_result"
    }
   ],
   "source": [
    "df_q2 = df[[\"channel\", \"Operating_system\", \"Picture_quality\", \"Stars\"]].copy()\n",
    "df_q2.head(2)"
   ]
  },
  {
   "cell_type": "code",
   "execution_count": 38,
   "id": "24567a74",
   "metadata": {},
   "outputs": [],
   "source": [
    "# ser_u = pd.Series(df_q2[\"channel\"].unique())\n",
    "# ser_u = pd.Series(df_q2[\"Operating_system\"].unique())\n",
    "ser_u = pd.Series(df_q2[\"Picture_quality\"].unique())\n",
    "ser_u[ser_u.str.contains(\"4K|8K\")]"
   ]
  },
  {
   "cell_type": "code",
   "execution_count": 39,
   "id": "200644fb",
   "metadata": {
    "collapsed": true
   },
   "outputs": [
    {
     "data": {
      "text/html": [
       "<div>\n",
       "<style scoped>\n",
       "    .dataframe tbody tr th:only-of-type {\n",
       "        vertical-align: middle;\n",
       "    }\n",
       "\n",
       "    .dataframe tbody tr th {\n",
       "        vertical-align: top;\n",
       "    }\n",
       "\n",
       "    .dataframe thead th {\n",
       "        text-align: right;\n",
       "    }\n",
       "</style>\n",
       "<table border=\"1\" class=\"dataframe\">\n",
       "  <thead>\n",
       "    <tr style=\"text-align: right;\">\n",
       "      <th></th>\n",
       "      <th>channel</th>\n",
       "      <th>Operating_system</th>\n",
       "      <th>Picture_quality</th>\n",
       "      <th>Stars</th>\n",
       "      <th>cnt_4k</th>\n",
       "      <th>cnt_8k</th>\n",
       "    </tr>\n",
       "  </thead>\n",
       "  <tbody>\n",
       "    <tr>\n",
       "      <th>0</th>\n",
       "      <td>HD Ready 1366 x 768 Pixels</td>\n",
       "      <td>20 Speaker Output</td>\n",
       "      <td>60 Hz Refresh Rate</td>\n",
       "      <td>4.2</td>\n",
       "      <td>0</td>\n",
       "      <td>0</td>\n",
       "    </tr>\n",
       "    <tr>\n",
       "      <th>1</th>\n",
       "      <td>Netflix|Disney+Hotstar|Youtube</td>\n",
       "      <td>Operating System: Android Based</td>\n",
       "      <td>HD Ready 1366 x 768 Pixels</td>\n",
       "      <td>3.8</td>\n",
       "      <td>0</td>\n",
       "      <td>0</td>\n",
       "    </tr>\n",
       "    <tr>\n",
       "      <th>2</th>\n",
       "      <td>Netflix|Prime Video|Disney+Hotstar|Youtube</td>\n",
       "      <td>Operating System: WebOS</td>\n",
       "      <td>HD Ready 1366 x 768 Pixels</td>\n",
       "      <td>4.4</td>\n",
       "      <td>0</td>\n",
       "      <td>0</td>\n",
       "    </tr>\n",
       "  </tbody>\n",
       "</table>\n",
       "</div>"
      ],
      "text/plain": [
       "                                      channel  \\\n",
       "0                  HD Ready 1366 x 768 Pixels   \n",
       "1              Netflix|Disney+Hotstar|Youtube   \n",
       "2  Netflix|Prime Video|Disney+Hotstar|Youtube   \n",
       "\n",
       "                  Operating_system             Picture_quality  Stars  cnt_4k  \\\n",
       "0                20 Speaker Output          60 Hz Refresh Rate    4.2       0   \n",
       "1  Operating System: Android Based  HD Ready 1366 x 768 Pixels    3.8       0   \n",
       "2          Operating System: WebOS  HD Ready 1366 x 768 Pixels    4.4       0   \n",
       "\n",
       "   cnt_8k  \n",
       "0       0  \n",
       "1       0  \n",
       "2       0  "
      ]
     },
     "execution_count": 39,
     "metadata": {},
     "output_type": "execute_result"
    }
   ],
   "source": [
    "df_q2[\"cnt_4k\"] = df_q2.iloc[:, :3].apply(lambda x: x.str.contains(\"4K\").sum(), axis = 1)\n",
    "df_q2[\"cnt_8k\"] = df_q2.iloc[:, :3].apply(lambda x: x.str.contains(\"8K\").sum(), axis = 1)\n",
    "df_q2.head(3)"
   ]
  },
  {
   "cell_type": "code",
   "execution_count": 43,
   "id": "c74fa5d0",
   "metadata": {},
   "outputs": [],
   "source": [
    "df_q2[\"cnt_4k\"].value_counts()"
   ]
  },
  {
   "cell_type": "code",
   "execution_count": 44,
   "id": "773183e6",
   "metadata": {},
   "outputs": [],
   "source": [
    "df_q2[\"cnt_8k\"].value_counts()"
   ]
  },
  {
   "cell_type": "code",
   "execution_count": 40,
   "id": "aa604591",
   "metadata": {},
   "outputs": [
    {
     "data": {
      "text/plain": [
       "(3.2180821917808218, 3.6)"
      ]
     },
     "execution_count": 40,
     "metadata": {},
     "output_type": "execute_result"
    }
   ],
   "source": [
    "stat_4k = df_q2.loc[df_q2[\"cnt_4k\"] >= 1, \"Stars\"].mean()\n",
    "stat_8k = df_q2.loc[df_q2[\"cnt_8k\"] >= 1, \"Stars\"].mean()\n",
    "stat_4k, stat_8k"
   ]
  },
  {
   "cell_type": "code",
   "execution_count": 50,
   "id": "85fee228",
   "metadata": {},
   "outputs": [
    {
     "data": {
      "text/plain": [
       "0.3819178082191783"
      ]
     },
     "execution_count": 50,
     "metadata": {},
     "output_type": "execute_result"
    }
   ],
   "source": [
    "abs(stat_4k - stat_8k) # 이정도만 보여도 충분."
   ]
  },
  {
   "cell_type": "code",
   "execution_count": 41,
   "id": "d9142aa1",
   "metadata": {},
   "outputs": [
    {
     "data": {
      "text/plain": [
       "0.38"
      ]
     },
     "execution_count": 41,
     "metadata": {},
     "output_type": "execute_result"
    }
   ],
   "source": [
    "round(abs(stat_4k - stat_8k), 2)"
   ]
  },
  {
   "cell_type": "code",
   "execution_count": 48,
   "id": "89784a75",
   "metadata": {},
   "outputs": [
    {
     "data": {
      "text/plain": [
       "0"
      ]
     },
     "execution_count": 48,
     "metadata": {},
     "output_type": "execute_result"
    }
   ],
   "source": [
    "x = df_q2.iloc[0, :3]\n",
    "# x.str.contains(\"4K\")\n",
    "x.str.contains(\"4K\").sum()"
   ]
  },
  {
   "cell_type": "code",
   "execution_count": 49,
   "id": "99f2c16e",
   "metadata": {},
   "outputs": [],
   "source": [
    "df_q2.iloc[:, :3].apply(lambda x: x.str.contains(\"4K\"), axis = 1)"
   ]
  },
  {
   "cell_type": "markdown",
   "id": "81004806",
   "metadata": {},
   "source": [
    "### Q3."
   ]
  },
  {
   "cell_type": "code",
   "execution_count": 54,
   "id": "c83629ba",
   "metadata": {},
   "outputs": [
    {
     "data": {
      "text/plain": [
       "548"
      ]
     },
     "execution_count": 54,
     "metadata": {},
     "output_type": "execute_result"
    }
   ],
   "source": [
    "df_q3 = df.loc[~df[\"channel\"].str.contains(\"Pixel|Oper\"), ].reset_index(drop = True)\n",
    "len(df_q3)"
   ]
  },
  {
   "cell_type": "code",
   "execution_count": 52,
   "id": "8b3e11f3",
   "metadata": {
    "collapsed": true
   },
   "outputs": [
    {
     "data": {
      "text/html": [
       "<div>\n",
       "<style scoped>\n",
       "    .dataframe tbody tr th:only-of-type {\n",
       "        vertical-align: middle;\n",
       "    }\n",
       "\n",
       "    .dataframe tbody tr th {\n",
       "        vertical-align: top;\n",
       "    }\n",
       "\n",
       "    .dataframe thead th {\n",
       "        text-align: right;\n",
       "    }\n",
       "</style>\n",
       "<table border=\"1\" class=\"dataframe\">\n",
       "  <thead>\n",
       "    <tr style=\"text-align: right;\">\n",
       "      <th></th>\n",
       "      <th>Product_Name</th>\n",
       "      <th>Stars</th>\n",
       "      <th>Ratings</th>\n",
       "      <th>Reviews</th>\n",
       "      <th>current_price</th>\n",
       "      <th>MRP</th>\n",
       "      <th>channel</th>\n",
       "      <th>Operating_system</th>\n",
       "      <th>Picture_quality</th>\n",
       "      <th>Speaker</th>\n",
       "      <th>Frequency</th>\n",
       "    </tr>\n",
       "  </thead>\n",
       "  <tbody>\n",
       "    <tr>\n",
       "      <th>1</th>\n",
       "      <td>Adsun</td>\n",
       "      <td>3.8</td>\n",
       "      <td>6742</td>\n",
       "      <td>930</td>\n",
       "      <td>8699</td>\n",
       "      <td>21999</td>\n",
       "      <td>Netflix|Disney+Hotstar|Youtube</td>\n",
       "      <td>Operating System: Android Based</td>\n",
       "      <td>HD Ready 1366 x 768 Pixels</td>\n",
       "      <td>20 W Speaker Output</td>\n",
       "      <td>60 Hz Refresh Rate</td>\n",
       "    </tr>\n",
       "  </tbody>\n",
       "</table>\n",
       "</div>"
      ],
      "text/plain": [
       "  Product_Name  Stars  Ratings  Reviews  current_price    MRP  \\\n",
       "1        Adsun    3.8     6742      930           8699  21999   \n",
       "\n",
       "                          channel                 Operating_system  \\\n",
       "1  Netflix|Disney+Hotstar|Youtube  Operating System: Android Based   \n",
       "\n",
       "              Picture_quality              Speaker           Frequency  \n",
       "1  HD Ready 1366 x 768 Pixels  20 W Speaker Output  60 Hz Refresh Rate  "
      ]
     },
     "execution_count": 52,
     "metadata": {},
     "output_type": "execute_result"
    }
   ],
   "source": [
    "df_q3.head(1)"
   ]
  },
  {
   "cell_type": "code",
   "execution_count": 55,
   "id": "a00143fb",
   "metadata": {},
   "outputs": [],
   "source": [
    "df_q3[\"x1\"] = df_q3[\"Reviews\"] / df_q3[\"Ratings\"]\n",
    "df_q3[\"x2\"] = df_q3[\"MRP\"]\n",
    "df_q3[\"x3\"] = df_q3[\"current_price\"] / df_q3[\"MRP\"]\n",
    "df_q3[\"x4\"] = df_q3[\"channel\"].str.contains(\"Netflix\") + 0\n",
    "df_q3[\"x5\"] = df_q3[\"channel\"].str.contains(\"Prime Video\") + 0\n",
    "df_q3[\"x6\"] = df_q3[\"Picture_quality\"].str.contains(\"4K|8K\") + 0"
   ]
  },
  {
   "cell_type": "code",
   "execution_count": 56,
   "id": "35025f81",
   "metadata": {
    "collapsed": true
   },
   "outputs": [
    {
     "data": {
      "text/html": [
       "<div>\n",
       "<style scoped>\n",
       "    .dataframe tbody tr th:only-of-type {\n",
       "        vertical-align: middle;\n",
       "    }\n",
       "\n",
       "    .dataframe tbody tr th {\n",
       "        vertical-align: top;\n",
       "    }\n",
       "\n",
       "    .dataframe thead th {\n",
       "        text-align: right;\n",
       "    }\n",
       "</style>\n",
       "<table border=\"1\" class=\"dataframe\">\n",
       "  <thead>\n",
       "    <tr style=\"text-align: right;\">\n",
       "      <th></th>\n",
       "      <th>Product_Name</th>\n",
       "      <th>Stars</th>\n",
       "      <th>Ratings</th>\n",
       "      <th>Reviews</th>\n",
       "      <th>current_price</th>\n",
       "      <th>MRP</th>\n",
       "      <th>channel</th>\n",
       "      <th>Operating_system</th>\n",
       "      <th>Picture_quality</th>\n",
       "      <th>Speaker</th>\n",
       "      <th>Frequency</th>\n",
       "      <th>x1</th>\n",
       "      <th>x2</th>\n",
       "      <th>x3</th>\n",
       "      <th>x4</th>\n",
       "      <th>x5</th>\n",
       "      <th>x6</th>\n",
       "    </tr>\n",
       "  </thead>\n",
       "  <tbody>\n",
       "    <tr>\n",
       "      <th>0</th>\n",
       "      <td>Adsun</td>\n",
       "      <td>3.8</td>\n",
       "      <td>6742</td>\n",
       "      <td>930</td>\n",
       "      <td>8699</td>\n",
       "      <td>21999</td>\n",
       "      <td>Netflix|Disney+Hotstar|Youtube</td>\n",
       "      <td>Operating System: Android Based</td>\n",
       "      <td>HD Ready 1366 x 768 Pixels</td>\n",
       "      <td>20 W Speaker Output</td>\n",
       "      <td>60 Hz Refresh Rate</td>\n",
       "      <td>0.137941</td>\n",
       "      <td>21999</td>\n",
       "      <td>0.395427</td>\n",
       "      <td>1</td>\n",
       "      <td>0</td>\n",
       "      <td>0</td>\n",
       "    </tr>\n",
       "    <tr>\n",
       "      <th>1</th>\n",
       "      <td>LG</td>\n",
       "      <td>4.4</td>\n",
       "      <td>38870</td>\n",
       "      <td>3443</td>\n",
       "      <td>16499</td>\n",
       "      <td>21990</td>\n",
       "      <td>Netflix|Prime Video|Disney+Hotstar|Youtube</td>\n",
       "      <td>Operating System: WebOS</td>\n",
       "      <td>HD Ready 1366 x 768 Pixels</td>\n",
       "      <td>10 W Speaker Output</td>\n",
       "      <td>50 Hz Refresh Rate</td>\n",
       "      <td>0.088577</td>\n",
       "      <td>21990</td>\n",
       "      <td>0.750296</td>\n",
       "      <td>1</td>\n",
       "      <td>1</td>\n",
       "      <td>0</td>\n",
       "    </tr>\n",
       "  </tbody>\n",
       "</table>\n",
       "</div>"
      ],
      "text/plain": [
       "  Product_Name  Stars  Ratings  Reviews  current_price    MRP  \\\n",
       "0        Adsun    3.8     6742      930           8699  21999   \n",
       "1           LG    4.4    38870     3443          16499  21990   \n",
       "\n",
       "                                      channel  \\\n",
       "0              Netflix|Disney+Hotstar|Youtube   \n",
       "1  Netflix|Prime Video|Disney+Hotstar|Youtube   \n",
       "\n",
       "                  Operating_system             Picture_quality  \\\n",
       "0  Operating System: Android Based  HD Ready 1366 x 768 Pixels   \n",
       "1          Operating System: WebOS  HD Ready 1366 x 768 Pixels   \n",
       "\n",
       "               Speaker           Frequency        x1     x2        x3  x4  x5  \\\n",
       "0  20 W Speaker Output  60 Hz Refresh Rate  0.137941  21999  0.395427   1   0   \n",
       "1  10 W Speaker Output  50 Hz Refresh Rate  0.088577  21990  0.750296   1   1   \n",
       "\n",
       "   x6  \n",
       "0   0  \n",
       "1   0  "
      ]
     },
     "execution_count": 56,
     "metadata": {},
     "output_type": "execute_result"
    }
   ],
   "source": [
    "df_q3.head(2)"
   ]
  },
  {
   "cell_type": "code",
   "execution_count": 57,
   "id": "cd76f013",
   "metadata": {
    "collapsed": true
   },
   "outputs": [
    {
     "data": {
      "text/html": [
       "<div>\n",
       "<style scoped>\n",
       "    .dataframe tbody tr th:only-of-type {\n",
       "        vertical-align: middle;\n",
       "    }\n",
       "\n",
       "    .dataframe tbody tr th {\n",
       "        vertical-align: top;\n",
       "    }\n",
       "\n",
       "    .dataframe thead th {\n",
       "        text-align: right;\n",
       "    }\n",
       "</style>\n",
       "<table border=\"1\" class=\"dataframe\">\n",
       "  <thead>\n",
       "    <tr style=\"text-align: right;\">\n",
       "      <th></th>\n",
       "      <th>Stars</th>\n",
       "      <th>x1</th>\n",
       "      <th>x2</th>\n",
       "      <th>x3</th>\n",
       "      <th>x4</th>\n",
       "      <th>x5</th>\n",
       "      <th>x6</th>\n",
       "    </tr>\n",
       "  </thead>\n",
       "  <tbody>\n",
       "    <tr>\n",
       "      <th>0</th>\n",
       "      <td>3.8</td>\n",
       "      <td>0.137941</td>\n",
       "      <td>21999</td>\n",
       "      <td>0.395427</td>\n",
       "      <td>1</td>\n",
       "      <td>0</td>\n",
       "      <td>0</td>\n",
       "    </tr>\n",
       "    <tr>\n",
       "      <th>1</th>\n",
       "      <td>4.4</td>\n",
       "      <td>0.088577</td>\n",
       "      <td>21990</td>\n",
       "      <td>0.750296</td>\n",
       "      <td>1</td>\n",
       "      <td>1</td>\n",
       "      <td>0</td>\n",
       "    </tr>\n",
       "  </tbody>\n",
       "</table>\n",
       "</div>"
      ],
      "text/plain": [
       "   Stars        x1     x2        x3  x4  x5  x6\n",
       "0    3.8  0.137941  21999  0.395427   1   0   0\n",
       "1    4.4  0.088577  21990  0.750296   1   1   0"
      ]
     },
     "execution_count": 57,
     "metadata": {},
     "output_type": "execute_result"
    }
   ],
   "source": [
    "df_model = df_q3[[\"Stars\", \"x1\", \"x2\", \"x3\", \"x4\", \"x5\", \"x6\"]]\n",
    "df_model.head(2)"
   ]
  },
  {
   "cell_type": "code",
   "execution_count": 58,
   "id": "a281fc7a",
   "metadata": {},
   "outputs": [
    {
     "data": {
      "text/plain": [
       "548"
      ]
     },
     "execution_count": 58,
     "metadata": {},
     "output_type": "execute_result"
    }
   ],
   "source": [
    "len(df_model)"
   ]
  },
  {
   "cell_type": "code",
   "execution_count": 60,
   "id": "ab9bd8de",
   "metadata": {},
   "outputs": [],
   "source": [
    "df_model.isna().sum()"
   ]
  },
  {
   "cell_type": "code",
   "execution_count": 61,
   "id": "6e5a5ba2",
   "metadata": {
    "collapsed": true
   },
   "outputs": [
    {
     "data": {
      "text/html": [
       "<div>\n",
       "<style scoped>\n",
       "    .dataframe tbody tr th:only-of-type {\n",
       "        vertical-align: middle;\n",
       "    }\n",
       "\n",
       "    .dataframe tbody tr th {\n",
       "        vertical-align: top;\n",
       "    }\n",
       "\n",
       "    .dataframe thead th {\n",
       "        text-align: right;\n",
       "    }\n",
       "</style>\n",
       "<table border=\"1\" class=\"dataframe\">\n",
       "  <thead>\n",
       "    <tr style=\"text-align: right;\">\n",
       "      <th></th>\n",
       "      <th>Stars</th>\n",
       "      <th>x1</th>\n",
       "      <th>x2</th>\n",
       "      <th>x3</th>\n",
       "      <th>x4</th>\n",
       "      <th>x5</th>\n",
       "      <th>x6</th>\n",
       "    </tr>\n",
       "  </thead>\n",
       "  <tbody>\n",
       "    <tr>\n",
       "      <th>0</th>\n",
       "      <td>3.8</td>\n",
       "      <td>0.137941</td>\n",
       "      <td>21999</td>\n",
       "      <td>0.395427</td>\n",
       "      <td>1</td>\n",
       "      <td>0</td>\n",
       "      <td>0</td>\n",
       "    </tr>\n",
       "    <tr>\n",
       "      <th>1</th>\n",
       "      <td>4.4</td>\n",
       "      <td>0.088577</td>\n",
       "      <td>21990</td>\n",
       "      <td>0.750296</td>\n",
       "      <td>1</td>\n",
       "      <td>1</td>\n",
       "      <td>0</td>\n",
       "    </tr>\n",
       "  </tbody>\n",
       "</table>\n",
       "</div>"
      ],
      "text/plain": [
       "   Stars        x1     x2        x3  x4  x5  x6\n",
       "0    3.8  0.137941  21999  0.395427   1   0   0\n",
       "1    4.4  0.088577  21990  0.750296   1   1   0"
      ]
     },
     "execution_count": 61,
     "metadata": {},
     "output_type": "execute_result"
    }
   ],
   "source": [
    "df_model = df_model.dropna()\n",
    "df_model.head(2)"
   ]
  },
  {
   "cell_type": "code",
   "execution_count": 62,
   "id": "e432a950",
   "metadata": {
    "collapsed": true
   },
   "outputs": [
    {
     "data": {
      "text/plain": [
       "Stars    0\n",
       "x1       0\n",
       "x2       0\n",
       "x3       0\n",
       "x4       0\n",
       "x5       0\n",
       "x6       0\n",
       "dtype: int64"
      ]
     },
     "execution_count": 62,
     "metadata": {},
     "output_type": "execute_result"
    }
   ],
   "source": [
    "df_model.isna().sum()"
   ]
  },
  {
   "cell_type": "code",
   "execution_count": 63,
   "id": "4afb16e9",
   "metadata": {},
   "outputs": [
    {
     "data": {
      "text/plain": [
       "197"
      ]
     },
     "execution_count": 63,
     "metadata": {},
     "output_type": "execute_result"
    }
   ],
   "source": [
    "len(df_model)"
   ]
  },
  {
   "cell_type": "code",
   "execution_count": 66,
   "id": "093312c3",
   "metadata": {},
   "outputs": [
    {
     "data": {
      "text/plain": [
       "array([0.31220617, 0.17383963, 0.4446912 , 0.02714087, 0.02400442,\n",
       "       0.01811773])"
      ]
     },
     "execution_count": 66,
     "metadata": {},
     "output_type": "execute_result"
    }
   ],
   "source": [
    "model_rf = RandomForestRegressor(random_state = 123)\n",
    "model_rf.fit(X = df_model.drop(columns = \"Stars\"), \n",
    "             y = df_model[\"Stars\"])\n",
    "model_rf.feature_importances_"
   ]
  },
  {
   "cell_type": "code",
   "execution_count": 67,
   "id": "dac84014",
   "metadata": {},
   "outputs": [
    {
     "data": {
      "text/plain": [
       "x1    0.312206\n",
       "x2    0.173840\n",
       "x3    0.444691\n",
       "x4    0.027141\n",
       "x5    0.024004\n",
       "x6    0.018118\n",
       "dtype: float64"
      ]
     },
     "execution_count": 67,
     "metadata": {},
     "output_type": "execute_result"
    }
   ],
   "source": [
    "# sklearn 버전에 따라 다음의 결과가 조금(또는...많이) 다를 수 있음.\n",
    "pd.Series(model_rf.feature_importances_, index = df_model.columns[1:])"
   ]
  },
  {
   "cell_type": "markdown",
   "id": "27c584b9",
   "metadata": {},
   "source": [
    "x3 - 할인율!!!"
   ]
  },
  {
   "cell_type": "code",
   "execution_count": null,
   "id": "d9922c10",
   "metadata": {},
   "outputs": [],
   "source": []
  },
  {
   "cell_type": "code",
   "execution_count": null,
   "id": "0e7b8c9f",
   "metadata": {},
   "outputs": [],
   "source": []
  },
  {
   "cell_type": "code",
   "execution_count": null,
   "id": "9441be50",
   "metadata": {},
   "outputs": [],
   "source": []
  },
  {
   "cell_type": "code",
   "execution_count": null,
   "id": "c8532a56",
   "metadata": {},
   "outputs": [],
   "source": []
  },
  {
   "cell_type": "code",
   "execution_count": null,
   "id": "206be691",
   "metadata": {},
   "outputs": [],
   "source": []
  },
  {
   "cell_type": "code",
   "execution_count": null,
   "id": "5279a686",
   "metadata": {},
   "outputs": [],
   "source": []
  },
  {
   "cell_type": "code",
   "execution_count": null,
   "id": "b27ecc07",
   "metadata": {},
   "outputs": [],
   "source": []
  }
 ],
 "metadata": {
  "kernelspec": {
   "display_name": "Python 3 (ipykernel)",
   "language": "python",
   "name": "python3"
  },
  "language_info": {
   "codemirror_mode": {
    "name": "ipython",
    "version": 3
   },
   "file_extension": ".py",
   "mimetype": "text/x-python",
   "name": "python",
   "nbconvert_exporter": "python",
   "pygments_lexer": "ipython3",
   "version": "3.11.4"
  }
 },
 "nbformat": 4,
 "nbformat_minor": 5
}
