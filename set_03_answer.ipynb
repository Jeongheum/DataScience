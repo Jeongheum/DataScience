{
 "cells": [
  {
   "cell_type": "markdown",
   "id": "e4bd9c7a",
   "metadata": {},
   "source": [
    "시중 스마트폰 상세 정보  \n",
    "갓 입사한 신입사원 김모씨는 기획부서에 배치되었다. 첫 프로젝트로 신규 스마트폰 스펙 기획업무를 보조하게 되었다. 장고 끝에 김씨는 온라인 디지털 마켓 사이트 '다판다요'에서 판매중인 스마트폰 데이터를 수집하여 이를 분석하고 향후 프로젝트의 백데이터로 활용하기로 결심하였다.  \n",
    "\n",
    "데이터: mobiles.csv 430 rows, 11 columns, UTF-8"
   ]
  },
  {
   "cell_type": "markdown",
   "id": "42902c46",
   "metadata": {},
   "source": [
    "변수명, 유형, 설명  \n",
    "screen_size, string, 화면크기  \n",
    "ROM, int, 저장공간용량  \n",
    "RAM, int, RAM용량  \n",
    "num_rear_camera, int, 후면 카메라 개수  \n",
    "num_front_camera, int, 전면 카메라 개수  \n",
    "battery_capacity, int,  배터리용량  \n",
    "ratings, float, 평가 점수 평균  \n",
    "num_of_ratings, int,  평가개수  \n",
    "sales_price, int, 판매가격  \n",
    "discount_percent, float, 할인율  \n",
    "sales, float, 판매지수"
   ]
  },
  {
   "cell_type": "markdown",
   "id": "abfc62f1",
   "metadata": {},
   "source": [
    "필요한 라이브러리  \n",
    "from sklearn.preprocessing import MinMaxScaler  \n",
    "from sklearn.model_selection import train_test_split  \n",
    "from sklearn.neighbors import KNeighborsRegressor  \n",
    "from sklearn.metrics import mean_squared_error  "
   ]
  },
  {
   "cell_type": "markdown",
   "id": "e5b4262f",
   "metadata": {},
   "source": [
    "문제1. 스마트폰의 경우 많은 제품이 출시되지만, 정작 주목받는 제품은 극히 적다고 한다. 판매지수(sales)를 기준으로 이상치라고 판단되는 제품을 주목받는 제품이라고 판단하고 해당 제품들의 성능지표를 산출하시오. 산출된 성능지표의 평균은 얼마인가?  \n",
    "<성능지표 계산식>  \n",
    "성능지표 = (ROM/32) + (RAM/2) + 카메라 개수 + (배터리용량/1000)  \n",
    ". 카메라 개수: num_rear_camera + num_front_camera  \n",
    ". 이상치는 평균으로 부터 2표준편차보다 큰 값으로 정의한다.  \n",
    ". 결과는 소수점 2째자리까지 계산"
   ]
  },
  {
   "cell_type": "markdown",
   "id": "242c342b",
   "metadata": {},
   "source": [
    "문제2. 판매지수(sales)와 가장 상관계수가 높은 변수를 찾고자 한다. 배터리 용량, 평가점수평균, 평가개수, 판매가격, 할인율 변수와 판매지수를 피어슨 상관분석을 실시하였을 때 상관계수의 절대값이 가장 큰 변수의 상관계수는 얼마인가?  \n",
    ". 후면 카메라가 1개인 제품은 제외하시오.  \n",
    ". 통계적 유의성은 고려하지 않음.  \n",
    ". 결과는 반올림하여 소수점 2째자리까지..."
   ]
  },
  {
   "cell_type": "markdown",
   "id": "f8a59835",
   "metadata": {},
   "source": [
    "문제3. 판매지수를 예측하기 위해 머신러닝 모델을 활용하고자 한다. k-NN알고리즘을 사용하고 연산에 사용하는 이웃의 개수를 변화하면서 가장 성능이 좋은 모델을 확보하려 한다. RMSE(root mean squared error)를 기준으로 가장 성능이 좋은 모델을 확인하고 해당 모델의 k(이웃 개수)를 구하라.  \n",
    ". 독립변수: 판매지수를 제외한 모든 변수  \n",
    ". 종속변수: 판매지수  \n",
    ". 명목형 독립변수의 경우  one hot encoding을 실시한 결과를 모델에 사용하시오.  \n",
    ". 학습에 사용하는 독ㄹ립변수의 개수는 총 14개이다.  \n",
    ". 학습 및 평가 데이터 세트 분할비는 8:2  \n",
    ". 정규화는 Min-Max정규화를 실시하며, 평가데이터세트는 학습 데이터 세트 기반으로 정규화 하시오.  \n",
    ". seed는 123  \n",
    ". 최근접 이웃은 3, 5, 7, 9, 11dmf tkdyd\n",
    ". 정답은 자연수로 출력하시오"
   ]
  },
  {
   "cell_type": "markdown",
   "id": "07322f54",
   "metadata": {},
   "source": [
    "추가문제. 지난달 신규 스마트폰 출시됨. 해당 스마트폰의 판매지수는 얼마로 예상하는가?  \n",
    "ROM, RAM, num_camera, battery_capacity, ratings, num_of_ratings, sales_prices, discount_percent, screen_size"
   ]
  },
  {
   "cell_type": "code",
   "execution_count": 1,
   "id": "7e8dc82f",
   "metadata": {},
   "outputs": [],
   "source": [
    "import pandas as pd\n",
    "import numpy as np\n",
    "\n",
    "from sklearn.preprocessing import MinMaxScaler\n",
    "from sklearn.model_selection import train_test_split\n",
    "from sklearn.neighbors import KNeighborsRegressor\n",
    "from sklearn.metrics import mean_squared_error"
   ]
  },
  {
   "cell_type": "code",
   "execution_count": 2,
   "id": "1565136e",
   "metadata": {},
   "outputs": [
    {
     "data": {
      "text/html": [
       "<div>\n",
       "<style scoped>\n",
       "    .dataframe tbody tr th:only-of-type {\n",
       "        vertical-align: middle;\n",
       "    }\n",
       "\n",
       "    .dataframe tbody tr th {\n",
       "        vertical-align: top;\n",
       "    }\n",
       "\n",
       "    .dataframe thead th {\n",
       "        text-align: right;\n",
       "    }\n",
       "</style>\n",
       "<table border=\"1\" class=\"dataframe\">\n",
       "  <thead>\n",
       "    <tr style=\"text-align: right;\">\n",
       "      <th></th>\n",
       "      <th>screen_size</th>\n",
       "      <th>ROM</th>\n",
       "      <th>RAM</th>\n",
       "      <th>num_rear_camera</th>\n",
       "      <th>num_front_camera</th>\n",
       "      <th>battery_capacity</th>\n",
       "      <th>ratings</th>\n",
       "      <th>num_of_ratings</th>\n",
       "      <th>sales_price</th>\n",
       "      <th>discount_percent</th>\n",
       "      <th>sales</th>\n",
       "    </tr>\n",
       "  </thead>\n",
       "  <tbody>\n",
       "    <tr>\n",
       "      <th>0</th>\n",
       "      <td>Very Small</td>\n",
       "      <td>64</td>\n",
       "      <td>2</td>\n",
       "      <td>1</td>\n",
       "      <td>1</td>\n",
       "      <td>1800</td>\n",
       "      <td>4.5</td>\n",
       "      <td>38645</td>\n",
       "      <td>32999</td>\n",
       "      <td>0.17</td>\n",
       "      <td>127.52</td>\n",
       "    </tr>\n",
       "    <tr>\n",
       "      <th>1</th>\n",
       "      <td>Small</td>\n",
       "      <td>64</td>\n",
       "      <td>4</td>\n",
       "      <td>2</td>\n",
       "      <td>1</td>\n",
       "      <td>2815</td>\n",
       "      <td>4.5</td>\n",
       "      <td>244</td>\n",
       "      <td>57149</td>\n",
       "      <td>0.04</td>\n",
       "      <td>1.39</td>\n",
       "    </tr>\n",
       "  </tbody>\n",
       "</table>\n",
       "</div>"
      ],
      "text/plain": [
       "  screen_size  ROM  RAM  num_rear_camera  num_front_camera  battery_capacity  \\\n",
       "0  Very Small   64    2                1                 1              1800   \n",
       "1       Small   64    4                2                 1              2815   \n",
       "\n",
       "   ratings  num_of_ratings  sales_price  discount_percent   sales  \n",
       "0      4.5           38645        32999              0.17  127.52  \n",
       "1      4.5             244        57149              0.04    1.39  "
      ]
     },
     "execution_count": 2,
     "metadata": {},
     "output_type": "execute_result"
    }
   ],
   "source": [
    "df = pd.read_csv(\"mobiles.csv\")\n",
    "df.head(2)"
   ]
  },
  {
   "cell_type": "markdown",
   "id": "f6bddb0d",
   "metadata": {},
   "source": [
    "### Q1."
   ]
  },
  {
   "cell_type": "code",
   "execution_count": 3,
   "id": "154f0a69",
   "metadata": {},
   "outputs": [
    {
     "data": {
      "text/plain": [
       "146.55150129273218"
      ]
     },
     "execution_count": 3,
     "metadata": {},
     "output_type": "execute_result"
    }
   ],
   "source": [
    "stat_mean = df[\"sales\"].mean()\n",
    "stat_std  = df[\"sales\"].std()\n",
    "stat_out  = stat_mean + 2 * stat_std\n",
    "stat_out"
   ]
  },
  {
   "cell_type": "code",
   "execution_count": 4,
   "id": "99ed80f4",
   "metadata": {},
   "outputs": [],
   "source": [
    "df_q1 = df.loc[df[\"sales\"] > stat_out, ].reset_index(drop = True)"
   ]
  },
  {
   "cell_type": "code",
   "execution_count": 5,
   "id": "1db22167",
   "metadata": {},
   "outputs": [
    {
     "data": {
      "text/plain": [
       "16"
      ]
     },
     "execution_count": 5,
     "metadata": {},
     "output_type": "execute_result"
    }
   ],
   "source": [
    "len(df_q1)"
   ]
  },
  {
   "cell_type": "code",
   "execution_count": 6,
   "id": "803296f4",
   "metadata": {},
   "outputs": [],
   "source": [
    "df_q1[\"idx\"] = (df_q1[\"ROM\"] / 32) + (df_q1[\"RAM\"] / 2) + \\\n",
    "(df_q1[\"num_front_camera\"] + df_q1[\"num_rear_camera\"]) + (df_q1[\"battery_capacity\"] / 1000)"
   ]
  },
  {
   "cell_type": "code",
   "execution_count": 7,
   "id": "32afa94e",
   "metadata": {},
   "outputs": [
    {
     "data": {
      "text/plain": [
       "11.01"
      ]
     },
     "execution_count": 7,
     "metadata": {},
     "output_type": "execute_result"
    }
   ],
   "source": [
    "round(df_q1[\"idx\"].mean(), 2)"
   ]
  },
  {
   "cell_type": "markdown",
   "id": "5602b051",
   "metadata": {},
   "source": [
    "### Q2."
   ]
  },
  {
   "cell_type": "code",
   "execution_count": 8,
   "id": "2084cf9d",
   "metadata": {},
   "outputs": [
    {
     "data": {
      "text/html": [
       "<div>\n",
       "<style scoped>\n",
       "    .dataframe tbody tr th:only-of-type {\n",
       "        vertical-align: middle;\n",
       "    }\n",
       "\n",
       "    .dataframe tbody tr th {\n",
       "        vertical-align: top;\n",
       "    }\n",
       "\n",
       "    .dataframe thead th {\n",
       "        text-align: right;\n",
       "    }\n",
       "</style>\n",
       "<table border=\"1\" class=\"dataframe\">\n",
       "  <thead>\n",
       "    <tr style=\"text-align: right;\">\n",
       "      <th></th>\n",
       "      <th>battery_capacity</th>\n",
       "      <th>ratings</th>\n",
       "      <th>num_of_ratings</th>\n",
       "      <th>sales_price</th>\n",
       "      <th>discount_percent</th>\n",
       "      <th>sales</th>\n",
       "    </tr>\n",
       "  </thead>\n",
       "  <tbody>\n",
       "    <tr>\n",
       "      <th>1</th>\n",
       "      <td>2815</td>\n",
       "      <td>4.5</td>\n",
       "      <td>244</td>\n",
       "      <td>57149</td>\n",
       "      <td>0.04</td>\n",
       "      <td>1.39</td>\n",
       "    </tr>\n",
       "    <tr>\n",
       "      <th>4</th>\n",
       "      <td>2815</td>\n",
       "      <td>4.6</td>\n",
       "      <td>745</td>\n",
       "      <td>69149</td>\n",
       "      <td>0.02</td>\n",
       "      <td>5.15</td>\n",
       "    </tr>\n",
       "  </tbody>\n",
       "</table>\n",
       "</div>"
      ],
      "text/plain": [
       "   battery_capacity  ratings  num_of_ratings  sales_price  discount_percent  \\\n",
       "1              2815      4.5             244        57149              0.04   \n",
       "4              2815      4.6             745        69149              0.02   \n",
       "\n",
       "   sales  \n",
       "1   1.39  \n",
       "4   5.15  "
      ]
     },
     "execution_count": 8,
     "metadata": {},
     "output_type": "execute_result"
    }
   ],
   "source": [
    "df_q2 = df.loc[df[\"num_rear_camera\"] != 1, \"battery_capacity\":]\n",
    "df_q2.head(2)"
   ]
  },
  {
   "cell_type": "code",
   "execution_count": 9,
   "id": "d86d5365",
   "metadata": {},
   "outputs": [
    {
     "data": {
      "text/plain": [
       "battery_capacity    0.03\n",
       "ratings             0.23\n",
       "num_of_ratings      0.95\n",
       "sales_price         0.25\n",
       "discount_percent    0.22\n",
       "sales               1.00\n",
       "Name: sales, dtype: float64"
      ]
     },
     "execution_count": 9,
     "metadata": {},
     "output_type": "execute_result"
    }
   ],
   "source": [
    "df_corr = df_q2.corr()\n",
    "df_corr.abs().round(2)[\"sales\"] # 0.95 <--"
   ]
  },
  {
   "cell_type": "code",
   "execution_count": 10,
   "id": "100a82da",
   "metadata": {},
   "outputs": [
    {
     "data": {
      "text/plain": [
       "battery_capacity    0.50\n",
       "ratings             0.42\n",
       "num_of_ratings      0.95\n",
       "sales_price         0.50\n",
       "discount_percent    0.26\n",
       "sales               0.95\n",
       "dtype: float64"
      ]
     },
     "execution_count": 10,
     "metadata": {},
     "output_type": "execute_result"
    }
   ],
   "source": [
    "df_corr.replace(1, np.nan).abs().max().round(2)"
   ]
  },
  {
   "cell_type": "code",
   "execution_count": 11,
   "id": "09b5ae99",
   "metadata": {},
   "outputs": [
    {
     "data": {
      "text/html": [
       "<div>\n",
       "<style scoped>\n",
       "    .dataframe tbody tr th:only-of-type {\n",
       "        vertical-align: middle;\n",
       "    }\n",
       "\n",
       "    .dataframe tbody tr th {\n",
       "        vertical-align: top;\n",
       "    }\n",
       "\n",
       "    .dataframe thead th {\n",
       "        text-align: right;\n",
       "    }\n",
       "</style>\n",
       "<table border=\"1\" class=\"dataframe\">\n",
       "  <thead>\n",
       "    <tr style=\"text-align: right;\">\n",
       "      <th></th>\n",
       "      <th>index</th>\n",
       "      <th>variable</th>\n",
       "      <th>value</th>\n",
       "    </tr>\n",
       "  </thead>\n",
       "  <tbody>\n",
       "    <tr>\n",
       "      <th>1</th>\n",
       "      <td>ratings</td>\n",
       "      <td>battery_capacity</td>\n",
       "      <td>-0.424129</td>\n",
       "    </tr>\n",
       "    <tr>\n",
       "      <th>2</th>\n",
       "      <td>num_of_ratings</td>\n",
       "      <td>battery_capacity</td>\n",
       "      <td>0.034902</td>\n",
       "    </tr>\n",
       "    <tr>\n",
       "      <th>3</th>\n",
       "      <td>sales_price</td>\n",
       "      <td>battery_capacity</td>\n",
       "      <td>-0.503019</td>\n",
       "    </tr>\n",
       "    <tr>\n",
       "      <th>4</th>\n",
       "      <td>discount_percent</td>\n",
       "      <td>battery_capacity</td>\n",
       "      <td>0.257373</td>\n",
       "    </tr>\n",
       "    <tr>\n",
       "      <th>5</th>\n",
       "      <td>sales</td>\n",
       "      <td>battery_capacity</td>\n",
       "      <td>0.025680</td>\n",
       "    </tr>\n",
       "    <tr>\n",
       "      <th>6</th>\n",
       "      <td>battery_capacity</td>\n",
       "      <td>ratings</td>\n",
       "      <td>-0.424129</td>\n",
       "    </tr>\n",
       "    <tr>\n",
       "      <th>8</th>\n",
       "      <td>num_of_ratings</td>\n",
       "      <td>ratings</td>\n",
       "      <td>0.191655</td>\n",
       "    </tr>\n",
       "    <tr>\n",
       "      <th>9</th>\n",
       "      <td>sales_price</td>\n",
       "      <td>ratings</td>\n",
       "      <td>0.151153</td>\n",
       "    </tr>\n",
       "    <tr>\n",
       "      <th>10</th>\n",
       "      <td>discount_percent</td>\n",
       "      <td>ratings</td>\n",
       "      <td>-0.118578</td>\n",
       "    </tr>\n",
       "    <tr>\n",
       "      <th>11</th>\n",
       "      <td>sales</td>\n",
       "      <td>ratings</td>\n",
       "      <td>0.226075</td>\n",
       "    </tr>\n",
       "    <tr>\n",
       "      <th>12</th>\n",
       "      <td>battery_capacity</td>\n",
       "      <td>num_of_ratings</td>\n",
       "      <td>0.034902</td>\n",
       "    </tr>\n",
       "    <tr>\n",
       "      <th>13</th>\n",
       "      <td>ratings</td>\n",
       "      <td>num_of_ratings</td>\n",
       "      <td>0.191655</td>\n",
       "    </tr>\n",
       "    <tr>\n",
       "      <th>15</th>\n",
       "      <td>sales_price</td>\n",
       "      <td>num_of_ratings</td>\n",
       "      <td>-0.260279</td>\n",
       "    </tr>\n",
       "    <tr>\n",
       "      <th>16</th>\n",
       "      <td>discount_percent</td>\n",
       "      <td>num_of_ratings</td>\n",
       "      <td>0.212442</td>\n",
       "    </tr>\n",
       "    <tr>\n",
       "      <th>17</th>\n",
       "      <td>sales</td>\n",
       "      <td>num_of_ratings</td>\n",
       "      <td>0.949114</td>\n",
       "    </tr>\n",
       "    <tr>\n",
       "      <th>18</th>\n",
       "      <td>battery_capacity</td>\n",
       "      <td>sales_price</td>\n",
       "      <td>-0.503019</td>\n",
       "    </tr>\n",
       "    <tr>\n",
       "      <th>19</th>\n",
       "      <td>ratings</td>\n",
       "      <td>sales_price</td>\n",
       "      <td>0.151153</td>\n",
       "    </tr>\n",
       "    <tr>\n",
       "      <th>20</th>\n",
       "      <td>num_of_ratings</td>\n",
       "      <td>sales_price</td>\n",
       "      <td>-0.260279</td>\n",
       "    </tr>\n",
       "    <tr>\n",
       "      <th>22</th>\n",
       "      <td>discount_percent</td>\n",
       "      <td>sales_price</td>\n",
       "      <td>-0.098640</td>\n",
       "    </tr>\n",
       "    <tr>\n",
       "      <th>23</th>\n",
       "      <td>sales</td>\n",
       "      <td>sales_price</td>\n",
       "      <td>-0.247760</td>\n",
       "    </tr>\n",
       "    <tr>\n",
       "      <th>24</th>\n",
       "      <td>battery_capacity</td>\n",
       "      <td>discount_percent</td>\n",
       "      <td>0.257373</td>\n",
       "    </tr>\n",
       "    <tr>\n",
       "      <th>25</th>\n",
       "      <td>ratings</td>\n",
       "      <td>discount_percent</td>\n",
       "      <td>-0.118578</td>\n",
       "    </tr>\n",
       "    <tr>\n",
       "      <th>26</th>\n",
       "      <td>num_of_ratings</td>\n",
       "      <td>discount_percent</td>\n",
       "      <td>0.212442</td>\n",
       "    </tr>\n",
       "    <tr>\n",
       "      <th>27</th>\n",
       "      <td>sales_price</td>\n",
       "      <td>discount_percent</td>\n",
       "      <td>-0.098640</td>\n",
       "    </tr>\n",
       "    <tr>\n",
       "      <th>29</th>\n",
       "      <td>sales</td>\n",
       "      <td>discount_percent</td>\n",
       "      <td>0.223471</td>\n",
       "    </tr>\n",
       "    <tr>\n",
       "      <th>30</th>\n",
       "      <td>battery_capacity</td>\n",
       "      <td>sales</td>\n",
       "      <td>0.025680</td>\n",
       "    </tr>\n",
       "    <tr>\n",
       "      <th>31</th>\n",
       "      <td>ratings</td>\n",
       "      <td>sales</td>\n",
       "      <td>0.226075</td>\n",
       "    </tr>\n",
       "    <tr>\n",
       "      <th>32</th>\n",
       "      <td>num_of_ratings</td>\n",
       "      <td>sales</td>\n",
       "      <td>0.949114</td>\n",
       "    </tr>\n",
       "    <tr>\n",
       "      <th>33</th>\n",
       "      <td>sales_price</td>\n",
       "      <td>sales</td>\n",
       "      <td>-0.247760</td>\n",
       "    </tr>\n",
       "    <tr>\n",
       "      <th>34</th>\n",
       "      <td>discount_percent</td>\n",
       "      <td>sales</td>\n",
       "      <td>0.223471</td>\n",
       "    </tr>\n",
       "  </tbody>\n",
       "</table>\n",
       "</div>"
      ],
      "text/plain": [
       "               index          variable     value\n",
       "1            ratings  battery_capacity -0.424129\n",
       "2     num_of_ratings  battery_capacity  0.034902\n",
       "3        sales_price  battery_capacity -0.503019\n",
       "4   discount_percent  battery_capacity  0.257373\n",
       "5              sales  battery_capacity  0.025680\n",
       "6   battery_capacity           ratings -0.424129\n",
       "8     num_of_ratings           ratings  0.191655\n",
       "9        sales_price           ratings  0.151153\n",
       "10  discount_percent           ratings -0.118578\n",
       "11             sales           ratings  0.226075\n",
       "12  battery_capacity    num_of_ratings  0.034902\n",
       "13           ratings    num_of_ratings  0.191655\n",
       "15       sales_price    num_of_ratings -0.260279\n",
       "16  discount_percent    num_of_ratings  0.212442\n",
       "17             sales    num_of_ratings  0.949114\n",
       "18  battery_capacity       sales_price -0.503019\n",
       "19           ratings       sales_price  0.151153\n",
       "20    num_of_ratings       sales_price -0.260279\n",
       "22  discount_percent       sales_price -0.098640\n",
       "23             sales       sales_price -0.247760\n",
       "24  battery_capacity  discount_percent  0.257373\n",
       "25           ratings  discount_percent -0.118578\n",
       "26    num_of_ratings  discount_percent  0.212442\n",
       "27       sales_price  discount_percent -0.098640\n",
       "29             sales  discount_percent  0.223471\n",
       "30  battery_capacity             sales  0.025680\n",
       "31           ratings             sales  0.226075\n",
       "32    num_of_ratings             sales  0.949114\n",
       "33       sales_price             sales -0.247760\n",
       "34  discount_percent             sales  0.223471"
      ]
     },
     "execution_count": 11,
     "metadata": {},
     "output_type": "execute_result"
    }
   ],
   "source": [
    "df_corr_melt = df_corr.reset_index().melt(id_vars = \"index\")\n",
    "df_corr_melt.loc[df_corr_melt[\"index\"] != df_corr_melt[\"variable\"], ]"
   ]
  },
  {
   "cell_type": "code",
   "execution_count": 12,
   "id": "4b16c613",
   "metadata": {},
   "outputs": [
    {
     "data": {
      "text/html": [
       "<div>\n",
       "<style scoped>\n",
       "    .dataframe tbody tr th:only-of-type {\n",
       "        vertical-align: middle;\n",
       "    }\n",
       "\n",
       "    .dataframe tbody tr th {\n",
       "        vertical-align: top;\n",
       "    }\n",
       "\n",
       "    .dataframe thead th {\n",
       "        text-align: right;\n",
       "    }\n",
       "</style>\n",
       "<table border=\"1\" class=\"dataframe\">\n",
       "  <thead>\n",
       "    <tr style=\"text-align: right;\">\n",
       "      <th>variable</th>\n",
       "      <th>battery_capacity</th>\n",
       "      <th>discount_percent</th>\n",
       "      <th>num_of_ratings</th>\n",
       "      <th>ratings</th>\n",
       "      <th>sales</th>\n",
       "      <th>sales_price</th>\n",
       "    </tr>\n",
       "    <tr>\n",
       "      <th>index</th>\n",
       "      <th></th>\n",
       "      <th></th>\n",
       "      <th></th>\n",
       "      <th></th>\n",
       "      <th></th>\n",
       "      <th></th>\n",
       "    </tr>\n",
       "  </thead>\n",
       "  <tbody>\n",
       "    <tr>\n",
       "      <th>battery_capacity</th>\n",
       "      <td>NaN</td>\n",
       "      <td>0.257373</td>\n",
       "      <td>0.034902</td>\n",
       "      <td>-0.424129</td>\n",
       "      <td>0.025680</td>\n",
       "      <td>-0.503019</td>\n",
       "    </tr>\n",
       "    <tr>\n",
       "      <th>discount_percent</th>\n",
       "      <td>0.257373</td>\n",
       "      <td>NaN</td>\n",
       "      <td>0.212442</td>\n",
       "      <td>-0.118578</td>\n",
       "      <td>0.223471</td>\n",
       "      <td>-0.098640</td>\n",
       "    </tr>\n",
       "    <tr>\n",
       "      <th>num_of_ratings</th>\n",
       "      <td>0.034902</td>\n",
       "      <td>0.212442</td>\n",
       "      <td>NaN</td>\n",
       "      <td>0.191655</td>\n",
       "      <td>0.949114</td>\n",
       "      <td>-0.260279</td>\n",
       "    </tr>\n",
       "    <tr>\n",
       "      <th>ratings</th>\n",
       "      <td>-0.424129</td>\n",
       "      <td>-0.118578</td>\n",
       "      <td>0.191655</td>\n",
       "      <td>NaN</td>\n",
       "      <td>0.226075</td>\n",
       "      <td>0.151153</td>\n",
       "    </tr>\n",
       "    <tr>\n",
       "      <th>sales</th>\n",
       "      <td>0.025680</td>\n",
       "      <td>0.223471</td>\n",
       "      <td>0.949114</td>\n",
       "      <td>0.226075</td>\n",
       "      <td>NaN</td>\n",
       "      <td>-0.247760</td>\n",
       "    </tr>\n",
       "    <tr>\n",
       "      <th>sales_price</th>\n",
       "      <td>-0.503019</td>\n",
       "      <td>-0.098640</td>\n",
       "      <td>-0.260279</td>\n",
       "      <td>0.151153</td>\n",
       "      <td>-0.247760</td>\n",
       "      <td>NaN</td>\n",
       "    </tr>\n",
       "  </tbody>\n",
       "</table>\n",
       "</div>"
      ],
      "text/plain": [
       "variable          battery_capacity  discount_percent  num_of_ratings  \\\n",
       "index                                                                  \n",
       "battery_capacity               NaN          0.257373        0.034902   \n",
       "discount_percent          0.257373               NaN        0.212442   \n",
       "num_of_ratings            0.034902          0.212442             NaN   \n",
       "ratings                  -0.424129         -0.118578        0.191655   \n",
       "sales                     0.025680          0.223471        0.949114   \n",
       "sales_price              -0.503019         -0.098640       -0.260279   \n",
       "\n",
       "variable           ratings     sales  sales_price  \n",
       "index                                              \n",
       "battery_capacity -0.424129  0.025680    -0.503019  \n",
       "discount_percent -0.118578  0.223471    -0.098640  \n",
       "num_of_ratings    0.191655  0.949114    -0.260279  \n",
       "ratings                NaN  0.226075     0.151153  \n",
       "sales             0.226075       NaN    -0.247760  \n",
       "sales_price       0.151153 -0.247760          NaN  "
      ]
     },
     "execution_count": 12,
     "metadata": {},
     "output_type": "execute_result"
    }
   ],
   "source": [
    "df_corr_melt_sub = df_corr_melt.loc[df_corr_melt[\"index\"] != df_corr_melt[\"variable\"], ]\n",
    "df_corr_melt_sub.pivot(index = \"index\", columns = \"variable\", values = \"value\")"
   ]
  },
  {
   "cell_type": "markdown",
   "id": "e7d18f0b",
   "metadata": {},
   "source": [
    "### Q3."
   ]
  },
  {
   "cell_type": "code",
   "execution_count": 13,
   "id": "76cead3d",
   "metadata": {},
   "outputs": [
    {
     "data": {
      "text/html": [
       "<div>\n",
       "<style scoped>\n",
       "    .dataframe tbody tr th:only-of-type {\n",
       "        vertical-align: middle;\n",
       "    }\n",
       "\n",
       "    .dataframe tbody tr th {\n",
       "        vertical-align: top;\n",
       "    }\n",
       "\n",
       "    .dataframe thead th {\n",
       "        text-align: right;\n",
       "    }\n",
       "</style>\n",
       "<table border=\"1\" class=\"dataframe\">\n",
       "  <thead>\n",
       "    <tr style=\"text-align: right;\">\n",
       "      <th></th>\n",
       "      <th>screen_size</th>\n",
       "      <th>ROM</th>\n",
       "      <th>RAM</th>\n",
       "      <th>num_rear_camera</th>\n",
       "      <th>num_front_camera</th>\n",
       "      <th>battery_capacity</th>\n",
       "      <th>ratings</th>\n",
       "      <th>num_of_ratings</th>\n",
       "      <th>sales_price</th>\n",
       "      <th>discount_percent</th>\n",
       "      <th>sales</th>\n",
       "    </tr>\n",
       "  </thead>\n",
       "  <tbody>\n",
       "    <tr>\n",
       "      <th>0</th>\n",
       "      <td>Very Small</td>\n",
       "      <td>64</td>\n",
       "      <td>2</td>\n",
       "      <td>1</td>\n",
       "      <td>1</td>\n",
       "      <td>1800</td>\n",
       "      <td>4.5</td>\n",
       "      <td>38645</td>\n",
       "      <td>32999</td>\n",
       "      <td>0.17</td>\n",
       "      <td>127.52</td>\n",
       "    </tr>\n",
       "    <tr>\n",
       "      <th>1</th>\n",
       "      <td>Small</td>\n",
       "      <td>64</td>\n",
       "      <td>4</td>\n",
       "      <td>2</td>\n",
       "      <td>1</td>\n",
       "      <td>2815</td>\n",
       "      <td>4.5</td>\n",
       "      <td>244</td>\n",
       "      <td>57149</td>\n",
       "      <td>0.04</td>\n",
       "      <td>1.39</td>\n",
       "    </tr>\n",
       "  </tbody>\n",
       "</table>\n",
       "</div>"
      ],
      "text/plain": [
       "  screen_size  ROM  RAM  num_rear_camera  num_front_camera  battery_capacity  \\\n",
       "0  Very Small   64    2                1                 1              1800   \n",
       "1       Small   64    4                2                 1              2815   \n",
       "\n",
       "   ratings  num_of_ratings  sales_price  discount_percent   sales  \n",
       "0      4.5           38645        32999              0.17  127.52  \n",
       "1      4.5             244        57149              0.04    1.39  "
      ]
     },
     "execution_count": 13,
     "metadata": {},
     "output_type": "execute_result"
    }
   ],
   "source": [
    "df.head(2)"
   ]
  },
  {
   "cell_type": "code",
   "execution_count": 14,
   "id": "60d397d9",
   "metadata": {},
   "outputs": [
    {
     "data": {
      "text/html": [
       "<div>\n",
       "<style scoped>\n",
       "    .dataframe tbody tr th:only-of-type {\n",
       "        vertical-align: middle;\n",
       "    }\n",
       "\n",
       "    .dataframe tbody tr th {\n",
       "        vertical-align: top;\n",
       "    }\n",
       "\n",
       "    .dataframe thead th {\n",
       "        text-align: right;\n",
       "    }\n",
       "</style>\n",
       "<table border=\"1\" class=\"dataframe\">\n",
       "  <thead>\n",
       "    <tr style=\"text-align: right;\">\n",
       "      <th></th>\n",
       "      <th>ROM</th>\n",
       "      <th>RAM</th>\n",
       "      <th>num_rear_camera</th>\n",
       "      <th>num_front_camera</th>\n",
       "      <th>battery_capacity</th>\n",
       "      <th>ratings</th>\n",
       "      <th>num_of_ratings</th>\n",
       "      <th>sales_price</th>\n",
       "      <th>discount_percent</th>\n",
       "      <th>sales</th>\n",
       "      <th>screen_size_Large</th>\n",
       "      <th>screen_size_Medium</th>\n",
       "      <th>screen_size_Small</th>\n",
       "      <th>screen_size_Very Large</th>\n",
       "      <th>screen_size_Very Small</th>\n",
       "    </tr>\n",
       "  </thead>\n",
       "  <tbody>\n",
       "    <tr>\n",
       "      <th>0</th>\n",
       "      <td>64</td>\n",
       "      <td>2</td>\n",
       "      <td>1</td>\n",
       "      <td>1</td>\n",
       "      <td>1800</td>\n",
       "      <td>4.5</td>\n",
       "      <td>38645</td>\n",
       "      <td>32999</td>\n",
       "      <td>0.17</td>\n",
       "      <td>127.52</td>\n",
       "      <td>0</td>\n",
       "      <td>0</td>\n",
       "      <td>0</td>\n",
       "      <td>0</td>\n",
       "      <td>1</td>\n",
       "    </tr>\n",
       "    <tr>\n",
       "      <th>1</th>\n",
       "      <td>64</td>\n",
       "      <td>4</td>\n",
       "      <td>2</td>\n",
       "      <td>1</td>\n",
       "      <td>2815</td>\n",
       "      <td>4.5</td>\n",
       "      <td>244</td>\n",
       "      <td>57149</td>\n",
       "      <td>0.04</td>\n",
       "      <td>1.39</td>\n",
       "      <td>0</td>\n",
       "      <td>0</td>\n",
       "      <td>1</td>\n",
       "      <td>0</td>\n",
       "      <td>0</td>\n",
       "    </tr>\n",
       "  </tbody>\n",
       "</table>\n",
       "</div>"
      ],
      "text/plain": [
       "   ROM  RAM  num_rear_camera  num_front_camera  battery_capacity  ratings  \\\n",
       "0   64    2                1                 1              1800      4.5   \n",
       "1   64    4                2                 1              2815      4.5   \n",
       "\n",
       "   num_of_ratings  sales_price  discount_percent   sales  screen_size_Large  \\\n",
       "0           38645        32999              0.17  127.52                  0   \n",
       "1             244        57149              0.04    1.39                  0   \n",
       "\n",
       "   screen_size_Medium  screen_size_Small  screen_size_Very Large  \\\n",
       "0                   0                  0                       0   \n",
       "1                   0                  1                       0   \n",
       "\n",
       "   screen_size_Very Small  \n",
       "0                       1  \n",
       "1                       0  "
      ]
     },
     "execution_count": 14,
     "metadata": {},
     "output_type": "execute_result"
    }
   ],
   "source": [
    "# df_q3_dum = pd.get_dummies(df, columns = [\"screen_size\"]) # 시험버전 기준\n",
    "df_q3_dum = pd.get_dummies(df, dtype = \"int\") # Pandas 2.0.0 기준.\n",
    "df_q3_dum.head(2)"
   ]
  },
  {
   "cell_type": "markdown",
   "id": "24c62d86",
   "metadata": {},
   "source": [
    "\"statsmodels\" 라이브러리를 사용하여 모델링을 하는 경우 논리값(True/False)가 있으면 모델링시 에러가 발생하기 때문에 반드시 정수형으로 변환해주어야 한다. 그리고 상기 데이터프레임에는 \"screen_size_Very Large\" 라는 변수명이 있는데 이를 statsmodels기반의 모델링을 실시하는 경우(formula 사용시) 에러가 발생할 수 있다."
   ]
  },
  {
   "cell_type": "code",
   "execution_count": 15,
   "id": "b1c0acd9",
   "metadata": {},
   "outputs": [
    {
     "data": {
      "text/plain": [
       "(430, 15)"
      ]
     },
     "execution_count": 15,
     "metadata": {},
     "output_type": "execute_result"
    }
   ],
   "source": [
    "df_q3_dum.shape"
   ]
  },
  {
   "cell_type": "code",
   "execution_count": 16,
   "id": "62c9c386",
   "metadata": {},
   "outputs": [
    {
     "data": {
      "text/html": [
       "<div>\n",
       "<style scoped>\n",
       "    .dataframe tbody tr th:only-of-type {\n",
       "        vertical-align: middle;\n",
       "    }\n",
       "\n",
       "    .dataframe tbody tr th {\n",
       "        vertical-align: top;\n",
       "    }\n",
       "\n",
       "    .dataframe thead th {\n",
       "        text-align: right;\n",
       "    }\n",
       "</style>\n",
       "<table border=\"1\" class=\"dataframe\">\n",
       "  <thead>\n",
       "    <tr style=\"text-align: right;\">\n",
       "      <th></th>\n",
       "      <th>sales</th>\n",
       "      <th>ROM</th>\n",
       "      <th>RAM</th>\n",
       "      <th>num_rear_camera</th>\n",
       "      <th>num_front_camera</th>\n",
       "      <th>battery_capacity</th>\n",
       "      <th>ratings</th>\n",
       "      <th>num_of_ratings</th>\n",
       "      <th>sales_price</th>\n",
       "      <th>discount_percent</th>\n",
       "      <th>screen_size_Large</th>\n",
       "      <th>screen_size_Medium</th>\n",
       "      <th>screen_size_Small</th>\n",
       "      <th>screen_size_Very Large</th>\n",
       "      <th>screen_size_Very Small</th>\n",
       "    </tr>\n",
       "  </thead>\n",
       "  <tbody>\n",
       "    <tr>\n",
       "      <th>0</th>\n",
       "      <td>127.52</td>\n",
       "      <td>64</td>\n",
       "      <td>2</td>\n",
       "      <td>1</td>\n",
       "      <td>1</td>\n",
       "      <td>1800</td>\n",
       "      <td>4.5</td>\n",
       "      <td>38645</td>\n",
       "      <td>32999</td>\n",
       "      <td>0.17</td>\n",
       "      <td>0</td>\n",
       "      <td>0</td>\n",
       "      <td>0</td>\n",
       "      <td>0</td>\n",
       "      <td>1</td>\n",
       "    </tr>\n",
       "    <tr>\n",
       "      <th>1</th>\n",
       "      <td>1.39</td>\n",
       "      <td>64</td>\n",
       "      <td>4</td>\n",
       "      <td>2</td>\n",
       "      <td>1</td>\n",
       "      <td>2815</td>\n",
       "      <td>4.5</td>\n",
       "      <td>244</td>\n",
       "      <td>57149</td>\n",
       "      <td>0.04</td>\n",
       "      <td>0</td>\n",
       "      <td>0</td>\n",
       "      <td>1</td>\n",
       "      <td>0</td>\n",
       "      <td>0</td>\n",
       "    </tr>\n",
       "  </tbody>\n",
       "</table>\n",
       "</div>"
      ],
      "text/plain": [
       "    sales  ROM  RAM  num_rear_camera  num_front_camera  battery_capacity  \\\n",
       "0  127.52   64    2                1                 1              1800   \n",
       "1    1.39   64    4                2                 1              2815   \n",
       "\n",
       "   ratings  num_of_ratings  sales_price  discount_percent  screen_size_Large  \\\n",
       "0      4.5           38645        32999              0.17                  0   \n",
       "1      4.5             244        57149              0.04                  0   \n",
       "\n",
       "   screen_size_Medium  screen_size_Small  screen_size_Very Large  \\\n",
       "0                   0                  0                       0   \n",
       "1                   0                  1                       0   \n",
       "\n",
       "   screen_size_Very Small  \n",
       "0                       1  \n",
       "1                       0  "
      ]
     },
     "execution_count": 16,
     "metadata": {},
     "output_type": "execute_result"
    }
   ],
   "source": [
    "df_q3_dum = df_q3_dum.set_index(\"sales\").reset_index()\n",
    "df_q3_dum.head(2)"
   ]
  },
  {
   "cell_type": "code",
   "execution_count": 17,
   "id": "79f6d124",
   "metadata": {},
   "outputs": [
    {
     "data": {
      "text/plain": [
       "(344, 86)"
      ]
     },
     "execution_count": 17,
     "metadata": {},
     "output_type": "execute_result"
    }
   ],
   "source": [
    "df_train, df_test = train_test_split(df_q3_dum, train_size = 0.8, random_state = 123)\n",
    "len(df_train), len(df_test)"
   ]
  },
  {
   "cell_type": "code",
   "execution_count": 18,
   "id": "b685e4bf",
   "metadata": {},
   "outputs": [],
   "source": [
    "model_nor = MinMaxScaler().fit(df_train)\n",
    "arr_train_nor = model_nor.transform(df_train)\n",
    "arr_test_nor  = model_nor.transform(df_test)"
   ]
  },
  {
   "cell_type": "code",
   "execution_count": 19,
   "id": "9658705e",
   "metadata": {},
   "outputs": [
    {
     "data": {
      "text/plain": [
       "array([[0.00394753, 0.04761905, 0.18181818, 0.33333333, 0.        ,\n",
       "        0.42307692, 0.625     , 0.00396262, 0.02607261, 0.09302326,\n",
       "        0.        , 0.        , 1.        , 0.        , 0.        ]])"
      ]
     },
     "execution_count": 19,
     "metadata": {},
     "output_type": "execute_result"
    }
   ],
   "source": [
    "arr_train_nor[:1, ]"
   ]
  },
  {
   "cell_type": "code",
   "execution_count": null,
   "id": "db264b23",
   "metadata": {},
   "outputs": [],
   "source": [
    "ls_k = [3, 5, 7, 9, 11]\n",
    "k = ls_k[0]\n",
    "\n",
    "model_knn = KNeighborsRegressor(n_neighbors = k)\n",
    "model_knn.fit(X = arr_train_nor[:, 1:],\n",
    "              y = arr_train_nor[:, 0 ])\n",
    "pred = model_knn.predict(arr_test_nor[:, 1:])\n",
    "\n",
    "val_rmse = mean_squared_error(y_true = arr_test_nor[:, 0],\n",
    "                              y_pred = pred) ** 0.5\n",
    "val_rmse = mean_squared_error(y_true = arr_test_nor[:, 0],\n",
    "                              y_pred = pred,\n",
    "                              squared = False)\n",
    "val_rmse"
   ]
  },
  {
   "cell_type": "code",
   "execution_count": 27,
   "id": "932ae3aa",
   "metadata": {},
   "outputs": [],
   "source": [
    "ls_k = [3, 5, 7, 9, 11]\n",
    "\n",
    "ls_rmse = []\n",
    "for k in ls_k:\n",
    "    model_knn = KNeighborsRegressor(n_neighbors = k)\n",
    "    model_knn.fit(X = arr_train_nor[:, 1:],\n",
    "                  y = arr_train_nor[:, 0 ])\n",
    "    pred = model_knn.predict(arr_test_nor[:, 1:])\n",
    "\n",
    "    val_rmse = mean_squared_error(y_true = arr_test_nor[:, 0],\n",
    "                                  y_pred = pred) ** 0.5\n",
    "\n",
    "    ls_rmse = ls_rmse + [val_rmse]"
   ]
  },
  {
   "cell_type": "code",
   "execution_count": 40,
   "id": "cb2e8342",
   "metadata": {},
   "outputs": [
    {
     "data": {
      "text/plain": [
       "11"
      ]
     },
     "execution_count": 40,
     "metadata": {},
     "output_type": "execute_result"
    }
   ],
   "source": [
    "k"
   ]
  },
  {
   "cell_type": "code",
   "execution_count": 29,
   "id": "a5844606",
   "metadata": {},
   "outputs": [
    {
     "data": {
      "text/plain": [
       "3"
      ]
     },
     "execution_count": 29,
     "metadata": {},
     "output_type": "execute_result"
    }
   ],
   "source": [
    "best_k = pd.Series(ls_rmse, index = ls_k).idxmin()\n",
    "best_k"
   ]
  },
  {
   "cell_type": "markdown",
   "id": "9a87bff1",
   "metadata": {},
   "source": [
    "### Q3. 추가 지시사항\n",
    "다음은 저번달에 신규 출시된 경쟁사의 스마트폰 정보이다. 해당 스마트폰의 판매지수는 얼마로 예상되는가?  \n",
    "※ 정규화 되지 않은 값으로 반올림하여 소수점 첫째 자리까지 출력하시오  \n",
    "※ KNN 모델을 사용하며 이웃 개수는 직전에 최적이라고 판단한 k값을 사용하시오.  \n",
    "* ROM: 256\n",
    "* RAM: 6\n",
    "* num_rear_camera: 4\n",
    "* num_front_camera: 1\n",
    "* battery_capacity: 4000\n",
    "* ratings: 4.3\n",
    "* num_of_ratings: 25000\n",
    "* sales_price: 85000\n",
    "* discount_percent: 0.05\n",
    "* screen_size: \"Large\"\n"
   ]
  },
  {
   "cell_type": "code",
   "execution_count": 32,
   "id": "4102ca4f",
   "metadata": {},
   "outputs": [],
   "source": [
    "# df_s1 = pd.DataFrame(dict(ROM = 256, ~~~ ))\n",
    "df_s1 = df_test.head(1).reset_index(drop = True)"
   ]
  },
  {
   "cell_type": "code",
   "execution_count": 33,
   "id": "1aaea131",
   "metadata": {},
   "outputs": [],
   "source": [
    "df_s1[\"RAM\"] = 6\n",
    "df_s1[\"num_rear_camera\"] = 4\n",
    "df_s1[\"battery_capacity\"] = 4000\n",
    "df_s1[\"ratings\"] = 4.3\n",
    "df_s1[\"num_of_ratings\"] = 25000\n",
    "df_s1[\"sales_price\"] = 85000\n",
    "df_s1[\"discount_percent\"] = 0.05\n",
    "df_s1[\"screen_size_Large\"] = 1\n",
    "df_s1[\"screen_size_Medium\"] = 0"
   ]
  },
  {
   "cell_type": "code",
   "execution_count": 34,
   "id": "79ca09ad",
   "metadata": {},
   "outputs": [
    {
     "data": {
      "text/html": [
       "<div>\n",
       "<style scoped>\n",
       "    .dataframe tbody tr th:only-of-type {\n",
       "        vertical-align: middle;\n",
       "    }\n",
       "\n",
       "    .dataframe tbody tr th {\n",
       "        vertical-align: top;\n",
       "    }\n",
       "\n",
       "    .dataframe thead th {\n",
       "        text-align: right;\n",
       "    }\n",
       "</style>\n",
       "<table border=\"1\" class=\"dataframe\">\n",
       "  <thead>\n",
       "    <tr style=\"text-align: right;\">\n",
       "      <th></th>\n",
       "      <th>sales</th>\n",
       "      <th>ROM</th>\n",
       "      <th>RAM</th>\n",
       "      <th>num_rear_camera</th>\n",
       "      <th>num_front_camera</th>\n",
       "      <th>battery_capacity</th>\n",
       "      <th>ratings</th>\n",
       "      <th>num_of_ratings</th>\n",
       "      <th>sales_price</th>\n",
       "      <th>discount_percent</th>\n",
       "      <th>screen_size_Large</th>\n",
       "      <th>screen_size_Medium</th>\n",
       "      <th>screen_size_Small</th>\n",
       "      <th>screen_size_Very Large</th>\n",
       "      <th>screen_size_Very Small</th>\n",
       "    </tr>\n",
       "  </thead>\n",
       "  <tbody>\n",
       "    <tr>\n",
       "      <th>0</th>\n",
       "      <td>5.9</td>\n",
       "      <td>256</td>\n",
       "      <td>6</td>\n",
       "      <td>4</td>\n",
       "      <td>1</td>\n",
       "      <td>4000</td>\n",
       "      <td>4.3</td>\n",
       "      <td>25000</td>\n",
       "      <td>85000</td>\n",
       "      <td>0.05</td>\n",
       "      <td>1</td>\n",
       "      <td>0</td>\n",
       "      <td>0</td>\n",
       "      <td>0</td>\n",
       "      <td>0</td>\n",
       "    </tr>\n",
       "  </tbody>\n",
       "</table>\n",
       "</div>"
      ],
      "text/plain": [
       "   sales  ROM  RAM  num_rear_camera  num_front_camera  battery_capacity  \\\n",
       "0    5.9  256    6                4                 1              4000   \n",
       "\n",
       "   ratings  num_of_ratings  sales_price  discount_percent  screen_size_Large  \\\n",
       "0      4.3           25000        85000              0.05                  1   \n",
       "\n",
       "   screen_size_Medium  screen_size_Small  screen_size_Very Large  \\\n",
       "0                   0                  0                       0   \n",
       "\n",
       "   screen_size_Very Small  \n",
       "0                       0  "
      ]
     },
     "execution_count": 34,
     "metadata": {},
     "output_type": "execute_result"
    }
   ],
   "source": [
    "df_s1"
   ]
  },
  {
   "cell_type": "code",
   "execution_count": 38,
   "id": "b8f6e650",
   "metadata": {},
   "outputs": [
    {
     "data": {
      "text/plain": [
       "array([[0.0119438 , 0.49206349, 0.45454545, 1.        , 0.        ,\n",
       "        0.42307692, 0.625     , 0.05308122, 0.51815842, 0.09302326,\n",
       "        1.        , 0.        , 0.        , 0.        , 0.        ]])"
      ]
     },
     "execution_count": 38,
     "metadata": {},
     "output_type": "execute_result"
    }
   ],
   "source": [
    "# arr_s1_nor = model_nor.transform(df_s1.drop(columns = \"sales\"))\n",
    "arr_s1_nor = model_nor.transform(df_s1)\n",
    "arr_s1_nor"
   ]
  },
  {
   "cell_type": "code",
   "execution_count": 39,
   "id": "9bbc4f74",
   "metadata": {},
   "outputs": [
    {
     "data": {
      "text/plain": [
       "array([0.00429167])"
      ]
     },
     "execution_count": 39,
     "metadata": {},
     "output_type": "execute_result"
    }
   ],
   "source": [
    "model_knn.predict(arr_s1_nor[:, 1:]) # 틀린 답안!!!"
   ]
  },
  {
   "cell_type": "code",
   "execution_count": 42,
   "id": "25611de2",
   "metadata": {},
   "outputs": [
    {
     "data": {
      "text/plain": [
       "array([0.00132259])"
      ]
     },
     "execution_count": 42,
     "metadata": {},
     "output_type": "execute_result"
    }
   ],
   "source": [
    "model_knn_best = KNeighborsRegressor(n_neighbors = best_k)\n",
    "model_knn_best.fit(X = arr_train_nor[:, 1:],\n",
    "                   y = arr_train_nor[:, 0 ])\n",
    "pred_best = model_knn_best.predict(arr_s1_nor[:, 1:])\n",
    "pred_best"
   ]
  },
  {
   "cell_type": "code",
   "execution_count": 48,
   "id": "90072808",
   "metadata": {},
   "outputs": [
    {
     "data": {
      "text/plain": [
       "array([[6.53333333e-01, 2.56000000e+02, 6.00000000e+00, 4.00000000e+00,\n",
       "        1.00000000e+00, 4.00000000e+03, 4.30000000e+00, 2.50000000e+04,\n",
       "        8.50000000e+04, 5.00000000e-02, 1.00000000e+00, 0.00000000e+00,\n",
       "        0.00000000e+00, 0.00000000e+00, 0.00000000e+00]])"
      ]
     },
     "execution_count": 48,
     "metadata": {},
     "output_type": "execute_result"
    }
   ],
   "source": [
    "# model_nor.inverse_transform(pred_best)\n",
    "# model_nor.inverse_transform([pred_best])\n",
    "arr_s1_nor[0, 0] = pred_best\n",
    "arr_s1_inv = model_nor.inverse_transform(arr_s1_nor)\n",
    "arr_s1_inv"
   ]
  },
  {
   "cell_type": "code",
   "execution_count": 50,
   "id": "e94049c9",
   "metadata": {},
   "outputs": [
    {
     "data": {
      "text/html": [
       "<div>\n",
       "<style scoped>\n",
       "    .dataframe tbody tr th:only-of-type {\n",
       "        vertical-align: middle;\n",
       "    }\n",
       "\n",
       "    .dataframe tbody tr th {\n",
       "        vertical-align: top;\n",
       "    }\n",
       "\n",
       "    .dataframe thead th {\n",
       "        text-align: right;\n",
       "    }\n",
       "</style>\n",
       "<table border=\"1\" class=\"dataframe\">\n",
       "  <thead>\n",
       "    <tr style=\"text-align: right;\">\n",
       "      <th></th>\n",
       "      <th>sales</th>\n",
       "      <th>ROM</th>\n",
       "      <th>RAM</th>\n",
       "      <th>num_rear_camera</th>\n",
       "      <th>num_front_camera</th>\n",
       "      <th>battery_capacity</th>\n",
       "      <th>ratings</th>\n",
       "      <th>num_of_ratings</th>\n",
       "      <th>sales_price</th>\n",
       "      <th>discount_percent</th>\n",
       "      <th>screen_size_Large</th>\n",
       "      <th>screen_size_Medium</th>\n",
       "      <th>screen_size_Small</th>\n",
       "      <th>screen_size_Very Large</th>\n",
       "      <th>screen_size_Very Small</th>\n",
       "    </tr>\n",
       "  </thead>\n",
       "  <tbody>\n",
       "    <tr>\n",
       "      <th>0</th>\n",
       "      <td>0.653333</td>\n",
       "      <td>256.0</td>\n",
       "      <td>6.0</td>\n",
       "      <td>4.0</td>\n",
       "      <td>1.0</td>\n",
       "      <td>4000.0</td>\n",
       "      <td>4.3</td>\n",
       "      <td>25000.0</td>\n",
       "      <td>85000.0</td>\n",
       "      <td>0.05</td>\n",
       "      <td>1.0</td>\n",
       "      <td>0.0</td>\n",
       "      <td>0.0</td>\n",
       "      <td>0.0</td>\n",
       "      <td>0.0</td>\n",
       "    </tr>\n",
       "  </tbody>\n",
       "</table>\n",
       "</div>"
      ],
      "text/plain": [
       "      sales    ROM  RAM  num_rear_camera  num_front_camera  battery_capacity  \\\n",
       "0  0.653333  256.0  6.0              4.0               1.0            4000.0   \n",
       "\n",
       "   ratings  num_of_ratings  sales_price  discount_percent  screen_size_Large  \\\n",
       "0      4.3         25000.0      85000.0              0.05                1.0   \n",
       "\n",
       "   screen_size_Medium  screen_size_Small  screen_size_Very Large  \\\n",
       "0                 0.0                0.0                     0.0   \n",
       "\n",
       "   screen_size_Very Small  \n",
       "0                     0.0  "
      ]
     },
     "execution_count": 50,
     "metadata": {},
     "output_type": "execute_result"
    }
   ],
   "source": [
    "pd.DataFrame(arr_s1_inv, columns = df_s1.columns)"
   ]
  },
  {
   "cell_type": "code",
   "execution_count": null,
   "id": "afa1fbf7",
   "metadata": {},
   "outputs": [],
   "source": []
  }
 ],
 "metadata": {
  "kernelspec": {
   "display_name": "Python 3 (ipykernel)",
   "language": "python",
   "name": "python3"
  },
  "language_info": {
   "codemirror_mode": {
    "name": "ipython",
    "version": 3
   },
   "file_extension": ".py",
   "mimetype": "text/x-python",
   "name": "python",
   "nbconvert_exporter": "python",
   "pygments_lexer": "ipython3",
   "version": "3.11.4"
  }
 },
 "nbformat": 4,
 "nbformat_minor": 5
}
